{
 "cells": [
  {
   "cell_type": "code",
   "execution_count": 1,
   "metadata": {},
   "outputs": [
    {
     "name": "stdout",
     "output_type": "stream",
     "text": [
      "TF version: 2.5.0\n",
      "TFP version: 0.13.0\n"
     ]
    }
   ],
   "source": [
    "import tensorflow as tf\n",
    "import tensorflow_probability as tfp\n",
    "tfd = tfp.distributions\n",
    "\n",
    "print(\"TF version:\", tf.__version__)\n",
    "print(\"TFP version:\", tfp.__version__)"
   ]
  },
  {
   "cell_type": "code",
   "execution_count": 2,
   "metadata": {},
   "outputs": [],
   "source": [
    "# Additional imports and setting fixed random seed to have reproducibility\n",
    "\n",
    "import matplotlib.pyplot as plt\n",
    "import numpy as np\n",
    "tf.random.set_seed(123)"
   ]
  },
  {
   "cell_type": "markdown",
   "metadata": {},
   "source": [
    "# Tensorflow Distributions"
   ]
  },
  {
   "cell_type": "markdown",
   "metadata": {},
   "source": [
    "## Coding Tutorials\n",
    "#### 1. [Univariate Distributions](#univariate_distributions)\n",
    "#### 2. [Multivariate Distributions](#multivariate_distributions)\n",
    "#### 3. [The Independent Distribution](#the_independent_distribution)\n",
    "#### 4. [Sampling and log probs](#sampling_and_log_probs)\n",
    "#### 5. [Trainable Distributions](#trainable_distributions)"
   ]
  },
  {
   "cell_type": "markdown",
   "metadata": {},
   "source": [
    "***\n",
    "## Univariate distributions\n",
    "<a id='univariate_distributions'></a>"
   ]
  },
  {
   "cell_type": "code",
   "execution_count": 3,
   "metadata": {},
   "outputs": [],
   "source": [
    "# Create a normal distribution from Tensorflow Distributions\n",
    "\n",
    "normal = tfd.Normal(loc = 0, scale = 1)"
   ]
  },
  {
   "cell_type": "code",
   "execution_count": 4,
   "metadata": {},
   "outputs": [
    {
     "data": {
      "text/plain": [
       "<tf.Tensor: shape=(), dtype=float32, numpy=-0.89808375>"
      ]
     },
     "execution_count": 4,
     "metadata": {},
     "output_type": "execute_result"
    }
   ],
   "source": [
    "# Sample from the chosen distribution...\n",
    "\n",
    "\n",
    "normal.sample()\n"
   ]
  },
  {
   "cell_type": "code",
   "execution_count": 21,
   "metadata": {},
   "outputs": [
    {
     "name": "stdout",
     "output_type": "stream",
     "text": [
      "[-1.16512012e+00 -3.21853608e-01  4.20669615e-01 -1.89899969e+00\n",
      "  3.94103706e-01 -2.13171765e-02 -2.39549190e-01  2.36998349e-02\n",
      "  2.51177669e+00 -5.23272991e-01  9.70978513e-02  8.44806671e-01\n",
      "  2.61285424e-01  3.83084953e-01  6.37640953e-01  5.39538920e-01\n",
      " -3.47113013e-01 -2.74788439e-01  1.80922413e+00 -1.19579971e+00\n",
      " -1.03296506e+00 -9.54621673e-01  1.35362720e+00 -6.83053397e-03\n",
      "  1.11371076e+00 -7.18280315e-01  2.95080751e-01 -1.05909956e+00\n",
      " -5.29107511e-01 -9.43236887e-01 -3.67398798e-01 -8.33089471e-01\n",
      " -4.70119119e-01  1.29860139e+00 -8.47170353e-01  1.07321382e+00\n",
      "  6.75904036e-01 -1.99836898e+00 -5.46875656e-01  3.38200152e-01\n",
      " -8.55989397e-01 -4.86608028e-01 -3.70577008e-01 -8.32907110e-02\n",
      " -1.88195974e-01 -4.45373178e-01  3.00085276e-01  7.96126664e-01\n",
      " -1.55460143e+00  5.18270612e-01 -5.26199579e-01 -2.68283337e-02\n",
      " -1.47743034e+00 -3.03856879e-01 -1.39661983e-01  7.93703258e-01\n",
      " -7.10547626e-01 -1.31065309e+00  3.72122645e-01  1.34305418e+00\n",
      "  4.07624274e-01  3.29845607e-01  2.47177529e+00  5.26931286e-02\n",
      " -1.64850068e+00 -1.35765052e+00  3.08097214e-01  1.80070817e+00\n",
      " -8.27091575e-01  2.57856011e-01 -6.61481395e-02 -1.94384229e+00\n",
      "  1.47187757e+00  1.76733494e+00 -4.38233241e-02 -5.36675155e-01\n",
      " -1.42129266e+00  2.06089664e+00 -1.59995961e+00 -4.90569830e-01\n",
      "  1.56234860e+00 -1.19802892e+00  4.85259265e-01  6.79353178e-01\n",
      " -1.55937457e+00  2.52380997e-01  5.35934448e-01  1.60943258e+00\n",
      " -1.61420047e-01  9.48637545e-01  1.36271858e+00  9.16139662e-01\n",
      "  7.32408285e-01 -9.90925193e-01 -1.73938334e+00  8.81579444e-02\n",
      " -1.30227411e+00  1.97646677e-01  1.54827631e+00 -7.14924455e-01\n",
      " -9.80732739e-01  2.01162243e+00 -1.71223080e+00  5.90200424e-01\n",
      "  2.35847950e+00 -3.69253665e-01 -5.97939432e-01 -2.03194618e-01\n",
      " -1.30644023e+00 -1.26845226e-01 -1.80745065e+00  1.81980121e+00\n",
      " -1.24809250e-01  7.42646277e-01  2.50144863e+00  1.89603135e-01\n",
      "  9.89737749e-01 -4.42068666e-01 -8.55965972e-01 -5.53244114e-01\n",
      "  1.00790429e+00  1.54386878e+00  1.13286950e-01  1.05283737e+00\n",
      "  1.28077948e+00  1.15517572e-01  1.57156158e-02  4.54411834e-01\n",
      " -8.08322728e-01 -3.41360062e-01 -5.37432551e-01 -5.82650125e-01\n",
      " -7.70484865e-01 -3.21098298e-01  6.26494169e-01  8.87498736e-01\n",
      "  2.89127469e-01 -1.27851859e-01  8.53376150e-01  1.66507363e+00\n",
      " -1.13134110e+00 -4.36816216e-01  7.77278125e-01 -5.12962043e-01\n",
      "  1.50293946e+00 -7.79800862e-02  5.55164404e-02 -2.22835827e+00\n",
      "  2.97577828e-02 -1.24332273e+00 -9.15474653e-01  7.53696799e-01\n",
      "  2.07607329e-01 -5.53451240e-01  1.18460611e-01 -6.52689457e-01\n",
      " -7.67788529e-01  4.63663787e-01 -3.01333815e-01 -5.22557735e-01\n",
      "  9.74725485e-01  1.63919225e-01 -1.19289875e-01  1.28469396e+00\n",
      "  9.26966727e-01 -7.61853576e-01  2.47262508e-01  6.38373852e-01\n",
      " -8.45433474e-01 -1.06080067e+00 -5.17621577e-01 -1.70747042e+00\n",
      " -1.42496789e+00 -3.63907576e-01  7.82681763e-01  1.45538956e-01\n",
      "  4.50676471e-01 -1.37344003e+00  5.24064183e-01 -8.06284249e-01\n",
      " -6.40690327e-01 -1.84759423e-02 -7.69672453e-01  7.59761035e-01\n",
      " -6.20281734e-02 -8.18831861e-01  4.79736239e-01  1.02523193e-01\n",
      " -1.62119901e+00  1.15220511e+00 -1.81605533e-01  4.41738099e-01\n",
      "  1.14426374e+00 -1.42140046e-01  7.50973582e-01 -9.11100626e-01\n",
      " -1.03932571e+00 -9.16428685e-01 -2.40419164e-01  1.07596433e+00\n",
      "  9.94545341e-01 -3.68300587e-01  5.32464802e-01  1.90514803e+00\n",
      "  2.71833563e+00 -3.68775278e-01 -6.25786602e-01 -1.43273377e+00\n",
      "  1.07486236e+00 -1.22183681e+00 -4.90275353e-01  1.39910829e+00\n",
      " -2.40842319e+00 -9.57467794e-01  1.74436823e-01 -9.53239918e-01\n",
      " -7.94201046e-02 -1.15579748e+00 -1.28864682e+00 -2.25873161e-02\n",
      "  1.25327873e+00  7.29631603e-01 -1.32182211e-01  1.84890807e-01\n",
      "  1.52203143e+00 -1.19090998e+00  2.71027541e+00  1.15689421e+00\n",
      " -1.70941675e+00  7.60922194e-01 -1.29337895e+00  2.04339772e-01\n",
      " -1.95123002e-01 -9.99632835e-01 -1.68593839e-01  8.29247534e-01\n",
      " -8.12059700e-01  1.26028609e+00  4.11453843e-01  4.40262407e-01\n",
      " -7.58615971e-01 -1.85400903e+00 -3.87086332e-01  2.30795786e-01\n",
      " -6.73556864e-01  6.81195617e-01 -1.80400178e-01  7.01820552e-01\n",
      "  1.00039005e+00 -6.64849222e-01 -1.34264863e+00  7.23838508e-01\n",
      "  1.21386051e+00  3.53143811e-01 -7.20353305e-01 -3.06585431e-01\n",
      " -1.23431635e+00 -4.43903416e-01 -4.65804249e-01  8.67830336e-01\n",
      "  4.12732631e-01  1.34647250e+00  1.82969391e-01  7.79782116e-01\n",
      "  6.98216975e-01 -8.60966817e-02  2.62772799e-01  4.06492352e-01\n",
      " -1.31610310e+00 -1.91545352e-01  1.61329758e+00 -1.11593032e+00\n",
      " -5.07062316e-01  1.67302680e+00 -3.26039165e-01 -1.67986882e+00\n",
      "  7.62054026e-01 -4.74675208e-01  1.67578065e+00 -6.15569651e-01\n",
      " -5.08465916e-02 -1.53317058e+00  7.12718606e-01 -1.88762411e-01\n",
      " -1.52019799e+00 -2.20201939e-01 -1.04780364e+00  2.22783625e-01\n",
      " -7.91034758e-01 -3.30913952e-03 -2.36767268e+00 -3.23175788e-01\n",
      " -6.37064636e-01  1.30063325e-01  4.65393126e-01 -9.93402004e-01\n",
      "  1.13050034e-02 -2.03348219e-01 -1.01273978e+00  4.53967541e-01\n",
      " -7.01278031e-01  2.09970787e-01 -1.23107088e+00 -1.31444311e+00\n",
      "  7.76574761e-02 -6.38126433e-01 -8.54436755e-01  5.27987301e-01\n",
      " -2.13536188e-01  1.32441652e+00 -1.32542956e+00 -1.58463228e+00\n",
      "  1.44231051e-01  9.64854285e-02  1.46324420e+00  8.75770509e-01\n",
      "  1.08402991e+00 -5.44646502e-01  3.36936951e-01  6.06813371e-01\n",
      " -7.00790524e-01 -7.55550265e-01  1.91981837e-01  1.63631439e-01\n",
      " -2.88465112e-01  6.53465629e-01  9.72230196e-01 -1.02360629e-01\n",
      " -1.02136128e-01 -1.00833707e-01  1.18666613e+00 -3.10134619e-01\n",
      " -2.03112125e-01  3.32065552e-01 -1.03660345e+00 -9.15731713e-02\n",
      "  7.92035401e-01  9.58115995e-01  8.49394262e-01 -9.04779255e-01\n",
      "  6.00931942e-01  9.99854743e-01 -6.04855657e-01  5.14625192e-01\n",
      "  1.54230595e-02 -4.70390558e-01 -1.50485563e+00 -1.28535700e+00\n",
      "  8.57636392e-01  1.56128509e-02  7.83320367e-02  7.66804397e-01\n",
      "  9.67586696e-01  5.84213972e-01  6.83750749e-01 -2.80681670e-01\n",
      " -1.09422219e+00  2.47005954e-01  8.48311067e-01 -2.50179315e+00\n",
      " -9.71310973e-01  1.03806233e+00 -1.85201943e+00  4.88765836e-02\n",
      " -5.67914784e-01  5.03077626e-01 -1.31353617e+00 -3.34307328e-02\n",
      " -4.20216417e+00  1.42335844e+00  1.80045426e-01  6.88206255e-02\n",
      " -2.83658598e-02  2.24532247e-01 -1.22445822e-01  2.16001153e-01\n",
      "  1.73470795e-01 -1.64247739e+00 -1.57547009e+00  9.84214783e-01\n",
      " -6.47849798e-01  5.26955962e-01  5.03106236e-01 -5.92449486e-01\n",
      " -1.42984048e-01 -3.63620430e-01 -4.47771192e-01  2.77916640e-01\n",
      " -2.40980601e+00 -4.81806427e-01 -7.77575791e-01  1.78540006e-01\n",
      " -1.25952244e+00  1.31329632e+00 -3.41879606e-01  2.51879334e+00\n",
      "  9.95356381e-01  1.07514448e-01 -7.09529638e-01  1.41030931e+00\n",
      " -5.93500257e-01 -4.38231200e-01  6.92949712e-01 -7.98295438e-01\n",
      "  3.88353199e-01  7.47702599e-01  1.16662169e+00  6.85131490e-01\n",
      "  9.37054813e-01 -2.27520224e-02 -1.02735901e+00  1.38092875e-01\n",
      " -1.23925269e+00  1.25318855e-01 -5.05032599e-01 -1.87114549e+00\n",
      "  2.61347562e-01 -2.55053014e-01  8.54469299e-01 -1.61613250e+00\n",
      " -2.25237489e-01 -1.09551942e+00 -9.60907817e-01 -7.38774538e-01\n",
      "  7.07870543e-01 -8.45088959e-01 -1.48560643e+00  2.26364422e+00\n",
      " -1.42076242e+00  3.18468153e-01  4.75362331e-01 -1.02431798e+00\n",
      "  5.29615045e-01  7.14776576e-01  2.80566722e-01  4.35872108e-01\n",
      " -1.51497388e+00 -1.38252151e+00 -1.03837550e+00 -1.04739606e-01\n",
      "  2.91633606e-01 -4.22025204e-01  7.82181919e-01  1.07522869e+00\n",
      "  1.52586782e+00  5.51114976e-01  5.92266202e-01  9.05773580e-01\n",
      "  7.12586820e-01 -6.52981520e-01 -2.04062057e+00 -9.15843070e-01\n",
      " -8.47318351e-01 -7.10936129e-01 -9.51394022e-01  6.97251320e-01\n",
      "  1.00396931e+00  3.71974438e-01  6.17120087e-01 -1.00173903e+00\n",
      " -1.55305064e+00 -5.57670236e-01  1.92766595e+00 -6.81644440e-01\n",
      "  2.51853734e-01 -7.27395296e-01 -6.74315393e-01  6.38262570e-01\n",
      " -1.40238428e+00  4.59218949e-01 -1.44342947e+00  1.94756359e-01\n",
      " -2.97493854e-04  2.88086474e-01  1.10816264e+00  4.11038220e-01\n",
      " -4.06840235e-01  1.53081357e+00  2.12525353e-02 -2.94369698e-01\n",
      "  6.96801126e-01 -4.26740199e-01 -4.36589718e-01  4.82957125e-01\n",
      "  3.62966895e-01  6.09052964e-02 -2.52952665e-01  6.76215112e-01\n",
      "  1.00450575e+00  1.98530221e+00  6.78141952e-01 -2.27559507e-01\n",
      "  1.55059409e+00 -1.53730190e+00 -1.96715367e+00  1.97145239e-01\n",
      " -6.44797027e-01  9.33276474e-01 -6.36642218e-01 -1.12484837e+00\n",
      " -7.87244678e-01  6.35357857e-01 -3.97877693e-01  7.63341725e-01\n",
      " -5.68716466e-01 -3.01546514e-01 -1.36522293e+00 -2.36651927e-01\n",
      "  8.92386287e-02 -2.97123790e-01  1.19921911e+00 -1.37973595e+00\n",
      " -7.36982107e-01 -8.32055688e-01 -7.31434464e-01  5.42452395e-01\n",
      "  5.06728441e-02 -1.22389272e-01 -6.36235893e-01 -5.02869129e-01\n",
      " -1.72926772e+00  3.41849253e-02 -8.22088957e-01  1.16906691e+00\n",
      "  2.09424663e+00 -5.59964299e-01  8.14296827e-02  1.53495505e-01\n",
      " -8.34255815e-01  1.45272934e+00 -5.12384474e-01 -8.58135819e-02\n",
      " -1.02328408e+00  1.10855591e+00  1.12703586e+00 -4.37933445e-01\n",
      " -1.47472036e+00  1.40250099e+00  9.34232697e-02  3.70532930e-01\n",
      "  2.95083169e-02  5.01463354e-01 -4.12054092e-01  2.09400868e+00\n",
      " -5.59403896e-01 -3.89408201e-01  1.00980604e+00  8.88109922e-01\n",
      "  2.23029733e-01  1.55708516e+00  1.34218895e+00 -3.11250925e-01\n",
      "  7.12269843e-01  5.61473131e-01 -6.89359307e-02  8.05805743e-01\n",
      "  3.26060683e-01  1.17341971e+00 -1.19906867e+00 -1.03893781e+00\n",
      " -6.24096990e-01 -9.34646785e-01  5.97914934e-01 -1.07243367e-01\n",
      "  3.44835937e-01  1.11913145e+00 -6.61228836e-01  7.79473007e-01\n",
      "  1.90293491e+00 -1.23721230e+00  2.33050004e-01 -1.59424737e-01\n",
      " -1.26669025e+00  1.08279264e+00 -8.24741483e-01  1.97698064e-02\n",
      " -2.49396786e-02  5.92252731e-01 -3.76387686e-01 -2.31758952e+00\n",
      "  1.05300474e+00  1.83221745e+00  1.54181468e+00  1.45080793e+00\n",
      "  2.11694315e-01  2.04157248e-01  1.86005032e+00  1.07980704e+00\n",
      "  1.54024100e+00  6.88716233e-01 -8.51780474e-01  1.95641503e-01\n",
      "  5.28473973e-01 -1.68501115e+00  4.38959897e-01  9.17760491e-01\n",
      " -6.35070726e-02 -4.95451152e-01  9.26927269e-01 -4.41391289e-01\n",
      " -1.27869606e+00  1.56515706e+00  5.24902999e-01  3.43789794e-02\n",
      " -8.15509200e-01 -6.87204123e-01 -9.14261043e-01 -2.89908499e-01\n",
      "  8.27584714e-02  3.73189718e-01  2.40868545e+00 -9.73706901e-01\n",
      "  1.01480091e+00 -1.11305332e+00  8.75177324e-01 -6.94286168e-01\n",
      "  3.06928545e-01  6.58557057e-01 -5.98680258e-01 -1.65475965e+00\n",
      "  1.87539101e-01 -6.00021556e-02 -3.18185166e-02 -2.63449669e-01\n",
      "  1.03416526e+00  3.23134065e-01  4.27886456e-01  2.16150212e+00\n",
      " -6.47140145e-01  1.87916309e-01 -2.69966602e-01 -1.07253051e+00\n",
      " -2.25237036e+00 -4.87754405e-01 -1.31665304e-01  1.36882973e+00\n",
      "  4.43247199e-01  6.71606958e-01  1.81295931e+00  3.12516868e-01\n",
      "  1.86826944e+00  1.56533360e-01  3.20773393e-01 -4.45709191e-02\n",
      "  1.47689021e+00  2.64385790e-01 -1.56662583e+00  1.93476483e-01\n",
      "  1.90020338e-01  4.79884624e-01 -7.62451410e-01  1.31402493e+00\n",
      " -2.33491361e-01 -1.82648227e-02  8.77124786e-01 -7.68131018e-01\n",
      "  1.49393275e-01 -1.10417604e+00 -3.57717931e-01 -3.13068599e-01\n",
      "  5.40284753e-01  7.46262074e-02 -5.04988313e-01 -1.83421731e-01\n",
      "  1.19901016e-01  4.90569860e-01  1.20220244e+00  1.25859678e+00\n",
      " -3.90416235e-01 -4.76044379e-02 -3.70582193e-01 -1.00376415e+00\n",
      "  1.48417860e-01 -7.98530698e-01 -1.08593869e+00  7.57433593e-01\n",
      " -1.57579553e+00 -4.01628733e-01  3.39385837e-01 -1.41790378e+00\n",
      "  6.31524324e-01 -6.93457425e-01  7.49110699e-01 -1.44138002e+00\n",
      " -2.93474346e-01  1.12930667e+00 -7.47276723e-01 -4.48817849e-01\n",
      " -6.41612768e-01 -5.98019361e-01 -1.14480793e-01 -8.75244498e-01\n",
      "  1.35535395e+00 -3.95284861e-01  6.46504760e-01  6.44470274e-01\n",
      " -1.43699062e+00  5.94623327e-01 -1.17378998e+00 -4.23435450e-01\n",
      "  1.68529108e-01  4.09348488e-01  3.62915903e-01 -6.13333881e-01\n",
      "  1.78602004e+00 -1.80475652e-01  1.95229673e+00  5.15639246e-01\n",
      "  7.42475271e-01 -1.19586647e+00  4.28535998e-01 -1.04840839e+00\n",
      "  6.13213360e-01 -1.07840097e+00  9.12815034e-01 -1.74602401e+00\n",
      "  1.82597852e+00 -1.45892262e-01 -1.12808931e+00  7.69722164e-01\n",
      " -7.35695481e-01  1.20014870e+00 -2.84197837e-01 -5.47860563e-01\n",
      "  1.20847464e+00  5.60905635e-01 -1.91400075e+00 -9.00191545e-01\n",
      "  1.40774965e+00  9.24064934e-01  7.14974046e-01 -8.45966220e-01\n",
      "  3.77883375e-01  3.96880120e-01  1.73717469e-01  1.32743403e-01\n",
      "  5.78421772e-01  2.11804843e+00  8.45884264e-01 -2.71353703e-02\n",
      " -2.31831700e-01  4.00088131e-02  4.58512962e-01  7.22584248e-01\n",
      " -4.22829427e-02 -4.67945546e-01 -5.88596165e-01 -5.96186519e-01\n",
      "  4.90687072e-01  1.98303416e-01  2.08886176e-01 -4.10621613e-01\n",
      "  1.78388268e-01 -1.35533655e+00  2.47074679e-01 -2.26376131e-01\n",
      " -2.29402967e-02 -1.25563607e-01 -1.17793357e+00 -8.35125327e-01\n",
      "  2.88372397e-01  2.91048437e-01  1.24762034e+00 -1.11903250e-01\n",
      " -1.42712998e+00 -4.55523618e-02 -3.46754789e-01 -8.70459974e-01\n",
      " -1.08384299e+00  8.23490679e-01  1.02627814e+00 -7.01707184e-01\n",
      "  2.01797915e+00  3.80028367e-01 -6.37427926e-01  9.47484910e-01\n",
      "  4.08381939e+00 -8.80476534e-01  7.98921585e-01  1.70600188e+00\n",
      "  4.74328220e-01 -5.77600658e-01 -2.68667161e-01 -8.33197013e-02\n",
      "  5.10212839e-01  3.42588007e-01 -1.00809443e+00 -8.32415283e-01\n",
      "  1.05921365e-02 -1.29638180e-01 -4.27075475e-01 -9.38653946e-01\n",
      "  7.92188823e-01 -1.12752669e-01 -1.02041399e+00  1.29257107e+00\n",
      "  1.22246969e+00 -1.14779457e-01  7.90665507e-01 -5.73327482e-01\n",
      " -5.76672405e-02  2.61128724e-01  6.99650407e-01  3.26425023e-02\n",
      " -9.07377481e-01  1.05002439e+00  9.90435600e-01  5.36086038e-02\n",
      "  1.39343292e-01 -1.31100655e+00  1.30957782e+00  1.59190166e+00\n",
      "  1.45620927e-01 -4.67505842e-01  1.39237130e+00  7.15242982e-01\n",
      " -5.68529665e-01 -5.42222023e-01  2.60557508e+00 -2.58479029e-01\n",
      "  1.17784822e+00 -8.95521581e-01 -4.93818372e-01  6.14613354e-01\n",
      "  3.29805315e-01  2.21942753e-01 -4.45191145e-01  2.53870487e-01\n",
      " -2.86756933e-01  1.13249552e+00  1.00836587e+00 -1.33836195e-01\n",
      "  5.09493575e-02 -8.92669380e-01  2.11889580e-01 -6.49541259e-01\n",
      "  9.21500683e-01 -1.60024256e-01  8.82001102e-01 -2.62042016e-01\n",
      " -1.76843953e+00 -1.38868272e+00  1.43676832e-01  1.32302451e+00\n",
      " -1.42919803e+00  2.18599830e-02  2.01314831e+00 -1.45862430e-01\n",
      "  9.01797235e-01 -4.23170626e-01  1.58783770e+00  1.04676433e-01\n",
      "  4.78092909e-01  1.75385792e-02 -2.06984782e+00 -1.80547023e+00\n",
      "  2.71743774e-01 -1.51964009e+00 -1.23305571e+00 -2.31648755e+00\n",
      " -1.02877545e+00  9.27497685e-01  1.52714372e-01 -1.34079233e-01\n",
      " -3.84254873e-01 -6.42212182e-02  1.06573798e-01 -3.69482011e-01\n",
      " -1.03562367e+00  5.58413193e-02  1.07014716e+00  8.74080420e-01\n",
      "  8.30917597e-01 -7.57047176e-01  1.95132062e-01  2.89016992e-01\n",
      " -1.64067304e+00 -7.01660097e-01 -1.47623622e+00  8.37365806e-01\n",
      " -2.00895691e+00  4.66396451e-01 -4.17863309e-01 -1.63852334e+00\n",
      "  5.68817794e-01 -1.51950765e+00 -8.25634360e-01  6.23912573e-01\n",
      "  3.72913599e-01 -7.61863053e-01  1.31093967e+00  3.41235518e-01\n",
      "  1.57222882e-01 -1.22452426e+00  1.36113882e+00  5.64074636e-01\n",
      "  1.83480427e-01  1.63429296e+00  5.74046254e-01 -9.70579088e-01\n",
      "  2.36756489e-01  1.69783545e+00  4.65616643e-01 -1.32639575e+00\n",
      "  4.08855766e-01  1.05014336e+00  1.34902997e-02  4.09503520e-01\n",
      " -3.17991734e-01  9.60207582e-01 -2.89501965e-01 -3.20038527e-01\n",
      " -6.50440693e-01  2.06444788e+00  1.12005317e+00  8.15668881e-01\n",
      " -6.12113833e-01 -2.27528483e-01  1.24023461e+00 -1.77517578e-01\n",
      "  1.91442817e-01 -4.36716825e-01  6.89500496e-02  1.69526470e+00\n",
      "  3.53853032e-02 -1.67853594e-01  9.92945135e-01 -1.22348815e-01\n",
      " -9.13203120e-01  9.01297927e-02  1.32888865e+00 -5.33642173e-01\n",
      " -8.19987059e-01 -8.24265718e-01  1.47887802e+00 -7.02751219e-01\n",
      " -2.92313546e-01 -9.19054449e-01 -1.34074211e-01 -7.51472294e-01\n",
      "  6.33037925e-01  4.11627777e-02 -2.56211847e-01  3.16128403e-01\n",
      "  8.63601029e-01  5.09144723e-01  5.88189065e-02  2.70093232e-01\n",
      "  6.20179653e-01  2.52256781e-01  1.35616422e+00 -2.86553472e-01\n",
      " -9.79079127e-01 -3.58505249e-01 -1.20386660e+00  1.20987773e+00\n",
      "  1.01258373e+00 -1.55043221e+00 -3.01394105e-01  8.82745862e-01\n",
      "  1.17332280e+00 -5.32188475e-01  1.80895400e+00  1.27987802e+00\n",
      "  4.09489691e-01  1.30607143e-01 -5.51991582e-01  3.74783248e-01\n",
      " -1.32468557e+00  5.77972233e-01  1.05207312e+00  2.75541878e+00\n",
      "  9.41969097e-01 -7.36918807e-01 -4.86259073e-01 -3.84902447e-01\n",
      "  6.53188467e-01 -9.29321229e-01 -3.71710844e-02 -6.97305202e-01\n",
      "  1.17795385e-01  8.70595038e-01 -7.44577408e-01  5.08209884e-01\n",
      "  1.22785307e-01 -6.16911411e-01 -1.19308817e+00 -1.05136299e+00\n",
      " -9.25776124e-01  8.10504079e-01  1.13901961e+00  3.21995229e-01\n",
      " -3.36557508e-01 -7.91831970e-01 -2.01204515e+00 -9.48296249e-01\n",
      "  2.44770825e-01  3.92127514e-01  3.85792851e-01  1.47288203e+00]\n"
     ]
    }
   ],
   "source": [
    "# ... or sample multiple times\n",
    "\n",
    "samples = normal.sample(1000).numpy()\n",
    "print(samples)"
   ]
  },
  {
   "cell_type": "code",
   "execution_count": 22,
   "metadata": {},
   "outputs": [
    {
     "data": {
      "text/plain": [
       "<tf.Tensor: shape=(), dtype=float32, numpy=0.24197073>"
      ]
     },
     "execution_count": 22,
     "metadata": {},
     "output_type": "execute_result"
    }
   ],
   "source": [
    "# Obtain value of probability's density\n",
    "\n",
    "normal.prob(-1)"
   ]
  },
  {
   "cell_type": "code",
   "execution_count": 7,
   "metadata": {},
   "outputs": [
    {
     "data": {
      "text/plain": [
       "<tf.Tensor: shape=(), dtype=float32, numpy=-1.4189385>"
      ]
     },
     "execution_count": 7,
     "metadata": {},
     "output_type": "execute_result"
    }
   ],
   "source": [
    "# Obtain value of logprobability\n",
    "\n",
    "normal.log_prob(-1)"
   ]
  },
  {
   "cell_type": "code",
   "execution_count": 8,
   "metadata": {},
   "outputs": [
    {
     "data": {
      "text/plain": [
       "-1.4189384989485883"
      ]
     },
     "execution_count": 8,
     "metadata": {},
     "output_type": "execute_result"
    }
   ],
   "source": [
    "# Verify that this really is the log of the probability\n",
    "\n",
    "import math\n",
    "math.log(normal.prob(-1))"
   ]
  },
  {
   "cell_type": "code",
   "execution_count": 23,
   "metadata": {},
   "outputs": [
    {
     "data": {
      "image/png": "[encoded data removed]",
      "text/plain": [
       "<Figure size 432x288 with 1 Axes>"
      ]
     },
     "metadata": {},
     "output_type": "display_data"
    }
   ],
   "source": [
    "# Plot a histogram, approximating the density\n",
    "\n",
    "plt.hist(samples, bins=50, density=True)\n",
    "plt.show()"
   ]
  },
  {
   "cell_type": "code",
   "execution_count": 25,
   "metadata": {},
   "outputs": [
    {
     "data": {
      "text/plain": [
       "<tfp.distributions.Exponential 'Exponential' batch_shape=[] event_shape=[] dtype=float32>"
      ]
     },
     "execution_count": 25,
     "metadata": {},
     "output_type": "execute_result"
    }
   ],
   "source": [
    "# Do the same for the exponential distribution\n",
    "\n",
    "exp = tfd.Exponential(rate = 0.1)\n",
    "exp"
   ]
  },
  {
   "cell_type": "code",
   "execution_count": 27,
   "metadata": {},
   "outputs": [
    {
     "data": {
      "text/plain": [
       "<tf.Tensor: shape=(100,), dtype=float32, numpy=\n",
       "array([12.830212  ,  6.304524  , 24.467218  ,  1.249066  ,  9.407314  ,\n",
       "        0.2663619 ,  5.694127  ,  1.7691892 ,  8.8959    , 24.16858   ,\n",
       "        5.5853496 ,  4.757068  ,  2.4500875 , 21.623857  , 12.200247  ,\n",
       "        8.0113735 ,  8.029241  ,  3.67461   , 16.161585  ,  6.833496  ,\n",
       "       24.608196  , 13.218985  ,  5.1659727 , 13.976718  ,  1.9758408 ,\n",
       "        9.332088  , 22.424368  ,  9.425994  ,  3.442186  , 38.83659   ,\n",
       "       12.590844  , 37.602108  ,  4.6535993 , 14.539837  , 15.71058   ,\n",
       "        4.4028454 , 32.862373  ,  2.1433258 , 17.132032  ,  0.2691377 ,\n",
       "        8.970791  ,  1.1054446 ,  9.257216  , 19.49956   , 33.133514  ,\n",
       "        4.1409483 ,  1.6175246 , 26.064405  ,  1.1198877 ,  2.8278694 ,\n",
       "        1.151141  ,  1.899298  ,  1.7222376 ,  8.322384  ,  4.2099476 ,\n",
       "       42.522846  , 20.607141  , 14.121465  , 26.259678  , 14.735078  ,\n",
       "        2.8623145 ,  5.2990465 , 38.700783  ,  1.4071966 , 12.897544  ,\n",
       "        6.939433  ,  9.798068  ,  4.772011  , 12.92606   ,  3.4433637 ,\n",
       "        5.0061655 , 14.647047  ,  5.410126  ,  4.6470137 , 11.157032  ,\n",
       "        3.4229133 ,  0.94828427,  0.75477654,  4.6991186 ,  4.058499  ,\n",
       "       13.446841  ,  3.288597  ,  1.9834214 ,  4.4315143 ,  6.3983617 ,\n",
       "       12.675644  , 24.96917   , 32.96462   , 22.650751  ,  2.4713478 ,\n",
       "        0.57361555,  4.5270042 ,  0.40372166,  6.9682965 ,  8.102532  ,\n",
       "        5.916265  , 18.464544  , 12.688904  ,  2.9411411 ,  1.8635309 ],\n",
       "      dtype=float32)>"
      ]
     },
     "execution_count": 27,
     "metadata": {},
     "output_type": "execute_result"
    }
   ],
   "source": [
    "# Sample as before\n",
    "\n",
    "exp_samples = exp.sample(100)\n",
    "exp_samples"
   ]
  },
  {
   "cell_type": "code",
   "execution_count": 35,
   "metadata": {},
   "outputs": [
    {
     "data": {
      "text/plain": [
       "<tfp.distributions.Bernoulli 'Bernoulli' batch_shape=[] event_shape=[] dtype=int32>"
      ]
     },
     "execution_count": 35,
     "metadata": {},
     "output_type": "execute_result"
    }
   ],
   "source": [
    "# Create a Bernoulli distribution (discrete)\n",
    "\n",
    "bernoulli = tfd.Bernoulli(probs = 0.5)\n",
    "bernoulli"
   ]
  },
  {
   "cell_type": "markdown",
   "metadata": {},
   "source": [
    "#### A word of caution on discrete distributions"
   ]
  },
  {
   "cell_type": "code",
   "execution_count": 32,
   "metadata": {},
   "outputs": [
    {
     "name": "stdout",
     "output_type": "stream",
     "text": [
      "prob result 0.8999999761581421 for k = 0 \n",
      "prob result 0.30000001192092896 for k = 0.5 \n",
      "prob result 0.10000000149011612 for k = 1 \n",
      "prob result 8.100000381469727 for k = -1 \n"
     ]
    }
   ],
   "source": [
    "# Calculate Bernoulli prob and see that 0.5 and -1 do not give the correct probability!\n",
    "\n",
    "for k in [0,0.5,1,-1]:\n",
    "    print('prob result {} for k = {} '.format(bernoulli.prob(k), k))"
   ]
  },
  {
   "cell_type": "code",
   "execution_count": 33,
   "metadata": {},
   "outputs": [],
   "source": [
    "# Replicate the scores to see what is occurring under the hood\n",
    "\n",
    "def my_bernoulli(p_success, k):\n",
    "    return np.power(p_success,k)*np.power((1-p_success),(1-k))"
   ]
  },
  {
   "cell_type": "code",
   "execution_count": 36,
   "metadata": {},
   "outputs": [
    {
     "name": "stdout",
     "output_type": "stream",
     "text": [
      "prob result 0.5 for k = 0 \n",
      "prob result 0.5000000000000001 for k = 0.5 \n",
      "prob result 0.5 for k = 1 \n",
      "prob result 0.5 for k = -1 \n"
     ]
    }
   ],
   "source": [
    "# Evaluate it as before\n",
    "\n",
    "for k in [0,0.5,1,-1]:\n",
    "    print('prob result {} for k = {} '.format(my_bernoulli(0.5,k), k))"
   ]
  },
  {
   "cell_type": "markdown",
   "metadata": {},
   "source": [
    "#### Work with batch distributions"
   ]
  },
  {
   "cell_type": "code",
   "execution_count": null,
   "metadata": {},
   "outputs": [],
   "source": [
    "# Create a batched Bernoulli distribution\n",
    "\n",
    "bernoulli_batch = tfd.Bernoulli(probs=[0.1, 0.25, 0.5, 0.75, 0.9])\n",
    "bernoulli_batch"
   ]
  },
  {
   "cell_type": "code",
   "execution_count": null,
   "metadata": {},
   "outputs": [],
   "source": [
    "# Sample from it, noting the shape\n",
    "\n"
   ]
  },
  {
   "cell_type": "code",
   "execution_count": null,
   "metadata": {},
   "outputs": [],
   "source": [
    "# Use a batch shape with higher rank\n",
    "\n",
    "probs = [[[0.5, 0.5], \n",
    "          [0.8, 0.3], \n",
    "          [0.25, 0.75]]]\n",
    "bernoulli_batch_2D = tfd.Bernoulli(probs=probs)\n",
    "bernoulli_batch_2D"
   ]
  },
  {
   "cell_type": "code",
   "execution_count": null,
   "metadata": {},
   "outputs": [],
   "source": [
    "# Sample from this batch of distributions\n",
    "\n"
   ]
  },
  {
   "cell_type": "code",
   "execution_count": null,
   "metadata": {},
   "outputs": [],
   "source": [
    "# Determine probabilities from this batch distribution\n",
    "\n",
    "bernoulli_batch_2D.prob([[[1, 0], \n",
    "                         [0, 0], \n",
    "                         [1, 1]]])"
   ]
  },
  {
   "cell_type": "markdown",
   "metadata": {},
   "source": [
    "***\n",
    "<a id='multivariate_distributions'></a>\n",
    "## Multivariate Distributions\n"
   ]
  },
  {
   "cell_type": "markdown",
   "metadata": {},
   "source": [
    "#### Basic multivariate distributions"
   ]
  },
  {
   "cell_type": "code",
   "execution_count": null,
   "metadata": {},
   "outputs": [],
   "source": [
    "# Define 2D multivariate Gaussian with diagonal covariance matrix\n",
    "\n"
   ]
  },
  {
   "cell_type": "code",
   "execution_count": null,
   "metadata": {},
   "outputs": [],
   "source": [
    "# Sample from it\n",
    "\n"
   ]
  },
  {
   "cell_type": "code",
   "execution_count": null,
   "metadata": {},
   "outputs": [],
   "source": [
    "# Make a plot\n",
    "\n",
    "plt_sample = normal_diag.sample(10000)\n",
    "plt.scatter(plt_sample[:, 0], plt_sample[:, 1], marker='.', alpha=0.05)\n",
    "plt.axis('equal')\n",
    "plt.show()"
   ]
  },
  {
   "cell_type": "markdown",
   "metadata": {},
   "source": [
    "#### Batches of multivariate distributions"
   ]
  },
  {
   "cell_type": "code",
   "execution_count": null,
   "metadata": {},
   "outputs": [],
   "source": [
    "# Create three \"batches\" of multivariate normals\n",
    "\n"
   ]
  },
  {
   "cell_type": "code",
   "execution_count": null,
   "metadata": {},
   "outputs": [],
   "source": [
    "# Sample from it\n",
    "\n"
   ]
  },
  {
   "cell_type": "code",
   "execution_count": null,
   "metadata": {},
   "outputs": [],
   "source": [
    "# Compute log probs\n",
    "\n"
   ]
  },
  {
   "cell_type": "code",
   "execution_count": null,
   "metadata": {},
   "outputs": [],
   "source": [
    "# Create a sample for a plot -- notice the shape\n",
    "\n"
   ]
  },
  {
   "cell_type": "code",
   "execution_count": null,
   "metadata": {},
   "outputs": [],
   "source": [
    "# Plot samples from the batched multivariate Gaussian\n",
    "\n",
    "fig, axs = (plt.subplots(1, 3, sharex=True, sharey=True, figsize=(10, 3)))\n",
    "titles = ['cov_diag=[1, 2]','cov_diag=[2, 1]', 'cov_diag=[2, 2]']\n",
    "\n",
    "for i, (ax, title) in enumerate(zip(axs,titles)):\n",
    "    samples = plt_sample_batch[:,i,:] #take the ith batch [samples x event_shape]\n",
    "    ax.scatter(samples[:, 0], samples[:, 1], marker='.', alpha=0.05)\n",
    "    ax.set_title(title)\n",
    "plt.show()"
   ]
  },
  {
   "cell_type": "markdown",
   "metadata": {},
   "source": [
    "\n",
    "\n",
    "***\n",
    "<a id='the_independent_distribution'></a>\n",
    "## The Independent Distribution"
   ]
  },
  {
   "cell_type": "code",
   "execution_count": null,
   "metadata": {},
   "outputs": [],
   "source": [
    "# Start by defining a batch of two univariate Gaussians, then\n",
    "# combine them into a bivariate Gaussian with independent components\n",
    "\n"
   ]
  },
  {
   "cell_type": "code",
   "execution_count": null,
   "metadata": {},
   "outputs": [],
   "source": [
    "# Univariate density functions\n",
    "\n",
    "import seaborn as sns\n",
    "\n",
    "t = np.linspace(-4, 4, 10000)\n",
    "densities = batch_of_normals.prob(np.repeat(t[:, np.newaxis], 2, axis=1)) # each column is a vector of densities for one distn\n",
    "\n",
    "sns.lineplot(t, densities[:, 0], label='loc={}, scale={}'.format(locs[0], scales[0]))\n",
    "sns.lineplot(t, densities[:, 1], label='loc={}, scale={}'.format(locs[1], scales[1]))\n",
    "plt.ylabel('Probability density')\n",
    "plt.xlabel('Value')\n",
    "plt.legend()\n",
    "plt.show()"
   ]
  },
  {
   "cell_type": "code",
   "execution_count": null,
   "metadata": {},
   "outputs": [],
   "source": [
    "# Check their batch_shape and event_shape\n",
    "\n"
   ]
  },
  {
   "cell_type": "code",
   "execution_count": null,
   "metadata": {},
   "outputs": [],
   "source": [
    "# Use Independent to convert the batch shape to the event shape\n",
    "\n"
   ]
  },
  {
   "cell_type": "code",
   "execution_count": null,
   "metadata": {},
   "outputs": [],
   "source": [
    "# Note that dimension from batch_shape has shifted to event_shape\n",
    "\n"
   ]
  },
  {
   "cell_type": "code",
   "execution_count": null,
   "metadata": {},
   "outputs": [],
   "source": [
    "# Create a plot showing joint density contours and marginal density functions\n",
    "\n",
    "samples = bivariate_normal_from_Independent.sample(10000)\n",
    "x1 = samples[:, 0]\n",
    "x2 = samples[:, 1]\n",
    "sns.jointplot(x1, x2, kind=\"kde\", space=0, color='b', xlim=[-4, 4], ylim=[-4, 4])"
   ]
  },
  {
   "cell_type": "code",
   "execution_count": null,
   "metadata": {},
   "outputs": [],
   "source": [
    "# Use MultivariateNormalDiag to create the equivalent distribution\n",
    "# Note that diagonal covariance matrix => no correlation => independence (for the multivariate normal distribution)\n",
    "\n"
   ]
  },
  {
   "cell_type": "code",
   "execution_count": null,
   "metadata": {},
   "outputs": [],
   "source": [
    "# Plot the joint density function of bivariate_normal_from_Independent\n",
    "# Refer back to bivariate_normal_from_Independent to show that the plot is the same\n",
    "# Summarise how Independent has been used\n",
    "\n",
    "samples = bivariate_normal_from_Multivariate.sample(10000)\n",
    "x1 = samples[:, 0]\n",
    "x2 = samples[:, 1]\n",
    "sns.jointplot(x1, x2, kind=\"kde\", space=0, color='b', xlim=[-4, 4], ylim=[-4, 4])"
   ]
  },
  {
   "cell_type": "markdown",
   "metadata": {},
   "source": [
    "#### Shifting batch dimensions to event dimensions using \n",
    "`reinterpreted_batch_ndims`"
   ]
  },
  {
   "cell_type": "code",
   "execution_count": null,
   "metadata": {},
   "outputs": [],
   "source": [
    "# Demonstrate use of reinterpreted_batch_ndims\n",
    "# By default all batch dims except the first are transferred to event dims\n",
    "\n",
    "loc_grid = [[-100., -100.],\n",
    "            [100., 100.],\n",
    "            [0., 0.]]\n",
    "scale_grid = [[1., 10.],\n",
    "              [1., 10.],\n",
    "              [1., 1.]]\n",
    "\n",
    "normals_batch_3by2_event_1 = tfd.Normal(loc=loc_grid, scale=scale_grid)"
   ]
  },
  {
   "cell_type": "code",
   "execution_count": null,
   "metadata": {},
   "outputs": [],
   "source": [
    "# Highlight batch_shape\n",
    "\n"
   ]
  },
  {
   "cell_type": "code",
   "execution_count": null,
   "metadata": {},
   "outputs": [],
   "source": [
    "# We now have a batch of 3 bivariate normal distributions,\n",
    "# each parametrised by a column of our original parameter grid\n",
    "\n"
   ]
  },
  {
   "cell_type": "code",
   "execution_count": null,
   "metadata": {},
   "outputs": [],
   "source": [
    "# Evaluate log_prob\n",
    "\n"
   ]
  },
  {
   "cell_type": "code",
   "execution_count": null,
   "metadata": {},
   "outputs": [],
   "source": [
    "# Can reinterpret _all_ batch dimensions as event dimensions\n",
    "\n"
   ]
  },
  {
   "cell_type": "code",
   "execution_count": null,
   "metadata": {},
   "outputs": [],
   "source": [
    "# Take log_probs \n",
    "\n"
   ]
  },
  {
   "cell_type": "markdown",
   "metadata": {},
   "source": [
    "#### Using `Independent` to build a Naive Bayes classifier"
   ]
  },
  {
   "cell_type": "markdown",
   "metadata": {},
   "source": [
    "#### Introduction to `newsgroups` data set"
   ]
  },
  {
   "cell_type": "markdown",
   "metadata": {},
   "source": [
    "In this tutorial, just load the dataset, fetch train/test splits, probably choose a subset of the data.\n",
    "\n",
    "Construct the class conditional feature distribution (with Independent, using the Naive Bayes assumption) and sample from it.\n",
    "\n",
    "We can just use the ML estimates for parameters, in later tutorials we will learn them."
   ]
  },
  {
   "cell_type": "code",
   "execution_count": null,
   "metadata": {},
   "outputs": [],
   "source": [
    "# Convenience function for retrieving the 20 newsgroups data set\n",
    "\n",
    "# Usenet was a forerunner to modern internet forums\n",
    "# Users could post and read articles\n",
    "# Newsgroup corresponded to a topic\n",
    "# Example topics in this data set: IBM computer hardware, baseball\n",
    "# Our objective is to use an article's contents to predict its newsgroup,\n",
    "# a 20-class classification problem.\n",
    "\n",
    "# 18000 newsgroups, posts on 20 topics\n",
    "from sklearn.datasets import fetch_20newsgroups\n",
    "from sklearn.feature_extraction.text import CountVectorizer\n"
   ]
  },
  {
   "cell_type": "code",
   "execution_count": null,
   "metadata": {},
   "outputs": [],
   "source": [
    "# Get the train data\n",
    "\n"
   ]
  },
  {
   "cell_type": "code",
   "execution_count": null,
   "metadata": {},
   "outputs": [],
   "source": [
    "# More information about the data set\n",
    "\n"
   ]
  },
  {
   "cell_type": "code",
   "execution_count": null,
   "metadata": {},
   "outputs": [],
   "source": [
    "# Example article\n",
    "\n"
   ]
  },
  {
   "cell_type": "code",
   "execution_count": null,
   "metadata": {},
   "outputs": [],
   "source": [
    "# Associated label\n",
    "\n"
   ]
  },
  {
   "cell_type": "code",
   "execution_count": null,
   "metadata": {},
   "outputs": [],
   "source": [
    "# Name of label\n",
    "\n"
   ]
  },
  {
   "cell_type": "code",
   "execution_count": null,
   "metadata": {},
   "outputs": [],
   "source": [
    "# Preprocessing boilerplate\n",
    "\n",
    "n_documents = len(newsgroups_data['data'])\n",
    "\n",
    "count_vectorizer = CountVectorizer(input='content', binary=True,\n",
    "                                   max_df=0.25, min_df=1.01/n_documents) # ignore common words, words that appear once\n",
    "binary_bag_of_words = count_vectorizer.fit_transform(newsgroups_data['data']) # input is a list of strings\n"
   ]
  },
  {
   "cell_type": "code",
   "execution_count": null,
   "metadata": {},
   "outputs": [],
   "source": [
    "# Check shape\n",
    "\n"
   ]
  },
  {
   "cell_type": "code",
   "execution_count": null,
   "metadata": {},
   "outputs": [],
   "source": [
    "# Check that the fit has been successful\n",
    "\n"
   ]
  },
  {
   "cell_type": "code",
   "execution_count": null,
   "metadata": {},
   "outputs": [],
   "source": [
    "# Dict that will be useful later \n",
    "\n",
    "inv_vocabulary = {value:key for key, value in count_vectorizer.vocabulary_.items()}"
   ]
  },
  {
   "cell_type": "markdown",
   "metadata": {},
   "source": [
    "#### A Naive Bayes classifier for `newsgroup`"
   ]
  },
  {
   "cell_type": "markdown",
   "metadata": {},
   "source": [
    "Each feature vector $x$ is a list of indicators for whether a word appears in the article. $x_i$ is 1 if the $i$th word appears, and 0 otherwise. `inv_vocabulary` matches word indices $i$ to words.\n",
    "\n",
    "Each label $y$ is a value in $0, 1, \\ldots, 19$.\n",
    "\n",
    "The parts of a naive Bayes classifier for this problem can be summarised as:  \n",
    "\n",
    "\n",
    "- A probability distribution for the feature vector by class, $p(x|y = j)$ for each $j = 0, 1, \\ldots, 19$. These probability distributions are assumed to have independent components: we can factorize the joint probability as a product of marginal probabilities\n",
    "\\begin{equation}\n",
    "    p(x|y = j) = \\prod_{i=1}^d p(x_i|y = j)\n",
    "\\end{equation}\n",
    "These marginal probability distributions are Bernoulli distributions, each of which has a single parameter $\\theta_{ji} := p(x_i = 1|y = j)$. This parameter is the probability of observing word $i$ in an article of class $j$. \n",
    "\n",
    "- We will use the Laplace smoothed maximum likelihood estimate to compute these parameters. Laplace smoothing involves adding small counts to every feature for each class. Else, if a feature did not appear in the training set of a class, but then we observed it in our test data the log probability would be undefined.\n",
    "\n",
    "- A collection of class prior probabilities $p(y = j)$. These will be set by computing the class base rates in the training set.  \n",
    "\n",
    "\n",
    "- A function for computing the probability of class membership via Bayes' theorem:  \n",
    "\n",
    "\\begin{equation}\n",
    "    p(y = j|x) = \\frac{p(x|y = j)p(y = j)}{p(x)}\n",
    "\\end{equation}"
   ]
  },
  {
   "cell_type": "code",
   "execution_count": null,
   "metadata": {},
   "outputs": [],
   "source": [
    "# Compute the parameter estimates (adjusted fraction of documents in class that contain word)\n",
    "\n",
    "n_classes = newsgroups_data['target'].max() + 1\n",
    "y = newsgroups_data['target']\n",
    "n_words = binary_bag_of_words.shape[1]\n",
    "\n",
    "alpha = 1e-6 # parameters for Laplace smoothing\n",
    "\n",
    "theta = np.zeros([n_classes, n_words]) # stores parameter values - prob. word given class\n",
    "for c_k in range(n_classes): # 0, 1, ..., 19\n",
    "    class_mask = (y == c_k)\n",
    "    N = class_mask.sum() # number of articles in class\n",
    "    theta[c_k, :] = (binary_bag_of_words[class_mask, :].sum(axis=0) + alpha)/(N + alpha*2)"
   ]
  },
  {
   "cell_type": "code",
   "execution_count": null,
   "metadata": {},
   "outputs": [],
   "source": [
    "# Check whether the most probable word in each class is reasonable\n",
    "\n",
    "most_probable_word_ix = theta.argmax(axis=1) # most probable word for each class\n",
    "\n",
    "for j, ix in enumerate(most_probable_word_ix):\n",
    "    print('Most probable word in class {} is \"{}\".'.format(newsgroups_data['target_names'][j],\n",
    "                                                           inv_vocabulary[ix]))"
   ]
  },
  {
   "cell_type": "code",
   "execution_count": null,
   "metadata": {},
   "outputs": [],
   "source": [
    "# Define a distribution for each class\n",
    "\n"
   ]
  },
  {
   "cell_type": "code",
   "execution_count": null,
   "metadata": {},
   "outputs": [],
   "source": [
    "# Take a sample of words from each class\n",
    "\n",
    "n_samples = 10\n"
   ]
  },
  {
   "cell_type": "code",
   "execution_count": null,
   "metadata": {},
   "outputs": [],
   "source": [
    "# Choose a class\n",
    "\n",
    "chosen_class = 15\n",
    "newsgroups_data['target_names'][chosen_class]"
   ]
  },
  {
   "cell_type": "code",
   "execution_count": null,
   "metadata": {},
   "outputs": [],
   "source": [
    "# Indicators for words that appear in the sample\n",
    "\n",
    "class_sample = sample[:, chosen_class, :]\n",
    "class_sample"
   ]
  },
  {
   "cell_type": "code",
   "execution_count": null,
   "metadata": {},
   "outputs": [],
   "source": [
    "# Perform inverse transform to test quality of fit\n",
    "\n"
   ]
  },
  {
   "cell_type": "markdown",
   "metadata": {},
   "source": [
    "***\n",
    "<a id='sampling_and_log_probs'></a>\n",
    "## Sampling and log probs"
   ]
  },
  {
   "cell_type": "code",
   "execution_count": null,
   "metadata": {},
   "outputs": [],
   "source": [
    "# Make Multivariate Distribution\n",
    "\n",
    "normal_distributions = tfd.MultivariateNormalDiag(loc=[[0.5, 1], [0.1, 0], [0, 0.2]],\n",
    "                                 scale_diag=[[2, 3], [1, 3], [4, 4]])\n",
    "normal_distributions"
   ]
  },
  {
   "cell_type": "code",
   "execution_count": null,
   "metadata": {},
   "outputs": [],
   "source": [
    "# Sample\n",
    "\n"
   ]
  },
  {
   "cell_type": "code",
   "execution_count": null,
   "metadata": {},
   "outputs": [],
   "source": [
    "# Multivariate Normal batched Distribution\n",
    "# We are broadcasting batch shapes of `loc` and `scal_diag` \n",
    "# against each other\n",
    "\n",
    "loc = [[[0.3, 1.5, 1.], [0.2, 0.4, 2.8]],\n",
    "        [[2., 2.3, 8], [1.4, 1, 1.3]]]\n",
    "scale_diag = [0.4, 1., 0.7]\n",
    "normal_distributions = tfd.MultivariateNormalDiag(loc=loc, scale_diag=scale_diag)\n",
    "normal_distributions"
   ]
  },
  {
   "cell_type": "code",
   "execution_count": null,
   "metadata": {},
   "outputs": [],
   "source": [
    "# Use independent to move part of the batch shape\n",
    "\n"
   ]
  },
  {
   "cell_type": "code",
   "execution_count": null,
   "metadata": {},
   "outputs": [],
   "source": [
    "# Draw some samples\n",
    "\n"
   ]
  },
  {
   "cell_type": "code",
   "execution_count": null,
   "metadata": {},
   "outputs": [],
   "source": [
    "# `[B, E]` shaped input\n",
    "\n"
   ]
  },
  {
   "cell_type": "code",
   "execution_count": null,
   "metadata": {},
   "outputs": [],
   "source": [
    "# `[E]` shaped input (broadcasting over batch size)\n",
    "\n"
   ]
  },
  {
   "cell_type": "code",
   "execution_count": null,
   "metadata": {},
   "outputs": [],
   "source": [
    "#`[S, B, E]` shaped input (broadcasting over samples)\n",
    "\n"
   ]
  },
  {
   "cell_type": "code",
   "execution_count": null,
   "metadata": {},
   "outputs": [],
   "source": [
    "# `[S, b, e]` shaped input, where [b, e] is broadcastable over [B, E]\n",
    "\n"
   ]
  },
  {
   "cell_type": "markdown",
   "metadata": {},
   "source": [
    "#### Naive Bayes example\n",
    "\n",
    "Lets now use what we have learned and continue the Naive Bayes classifier we were building last tutorial."
   ]
  },
  {
   "cell_type": "code",
   "execution_count": null,
   "metadata": {},
   "outputs": [],
   "source": [
    "from sklearn.datasets import fetch_20newsgroups\n",
    "from sklearn.feature_extraction.text import CountVectorizer\n",
    "from sklearn.naive_bayes import BernoulliNB\n",
    "from sklearn.metrics import f1_score"
   ]
  },
  {
   "cell_type": "code",
   "execution_count": null,
   "metadata": {},
   "outputs": [],
   "source": [
    "# Making a function get_data which:\n",
    "#   1) Fetches the 20 newsgroup dataset\n",
    "#   2) Performs a word count on the articles and binarizes the result\n",
    "#   3) Returns the data as a numpy matrix with the labels\n",
    "\n",
    "def get_data(categories):\n",
    "    \n",
    "    newsgroups_train_data = fetch_20newsgroups(data_home='20_Newsgroup_Data/',\n",
    "                                               subset='train', categories=categories)\n",
    "    newsgroups_test_data = fetch_20newsgroups(data_home='20_Newsgroup_Data/',\n",
    "                                              subset='test', categories=categories)\n",
    "\n",
    "    n_documents = len(newsgroups_train_data['data'])\n",
    "    count_vectorizer = CountVectorizer(input='content', binary=True,max_df=0.25, min_df=1.01/n_documents)\n",
    "    \n",
    "    train_binary_bag_of_words = count_vectorizer.fit_transform(newsgroups_train_data['data'])\n",
    "    test_binary_bag_of_words = count_vectorizer.transform(newsgroups_test_data['data']) \n",
    "\n",
    "    return (train_binary_bag_of_words.todense(), newsgroups_train_data['target']),  (test_binary_bag_of_words.todense(), newsgroups_test_data['target'])"
   ]
  },
  {
   "cell_type": "code",
   "execution_count": null,
   "metadata": {},
   "outputs": [],
   "source": [
    "# Defining a function to conduct Laplace smoothing. This adds a base level of probability for a given feature\n",
    "# to occur in every class.\n",
    "\n",
    "def laplace_smoothing(labels, binary_data, n_classes):\n",
    "    # Compute the parameter estimates (adjusted fraction of documents in class that contain word)\n",
    "    n_words = binary_data.shape[1]\n",
    "    alpha = 1 # parameters for Laplace smoothing\n",
    "    theta = np.zeros([n_classes, n_words]) # stores parameter values - prob. word given class\n",
    "    for c_k in range(n_classes): # 0, 1, ..., 19\n",
    "        class_mask = (labels == c_k)\n",
    "        N = class_mask.sum() # number of articles in class\n",
    "        theta[c_k, :] = (binary_data[class_mask, :].sum(axis=0) + alpha)/(N + alpha*2)\n",
    "\n",
    "    return theta"
   ]
  },
  {
   "cell_type": "code",
   "execution_count": null,
   "metadata": {},
   "outputs": [],
   "source": [
    "# Getting a subset of the 20 newsgroup dataset\n",
    "\n",
    "categories = ['alt.atheism', 'talk.religion.misc', 'comp.graphics', 'sci.space']\n",
    "\n",
    "(train_data, train_labels), (test_data, test_labels) = get_data(categories=categories)\n",
    "smoothed_counts = laplace_smoothing(labels=train_labels, binary_data=train_data, n_classes=len(categories))"
   ]
  },
  {
   "cell_type": "markdown",
   "metadata": {},
   "source": [
    "To now make our NB classifier we need to build three functions:\n",
    "* Compute the class priors\n",
    "* Build our class conditional distributions\n",
    "* Put it all together and classify our data"
   ]
  },
  {
   "cell_type": "code",
   "execution_count": null,
   "metadata": {},
   "outputs": [],
   "source": [
    "# Function which computes the prior probability of every class based on frequency of occurence in \n",
    "# the dataset\n",
    "\n",
    "def class_priors(n_classes, labels):\n",
    "    counts = np.zeros(n_classes)\n",
    "    for c_k in range(n_classes):\n",
    "        counts[c_k] = np.sum(np.where(labels==c_k, 1, 0))\n",
    "    priors = counts / np.sum(counts)\n",
    "    print('The class priors are {}'.format(priors))\n",
    "    return priors"
   ]
  },
  {
   "cell_type": "code",
   "execution_count": null,
   "metadata": {},
   "outputs": [],
   "source": [
    "# Run the function \n",
    "\n"
   ]
  },
  {
   "cell_type": "code",
   "execution_count": null,
   "metadata": {},
   "outputs": [],
   "source": [
    "# Now we will do a function that given the feature occurence counts returns a Bernoulli distribution of \n",
    "# batch_shape=number of classes and event_shape=number of features.\n",
    "\n"
   ]
  },
  {
   "cell_type": "code",
   "execution_count": null,
   "metadata": {},
   "outputs": [],
   "source": [
    "# The final function predict_sample which given the distribution, a test sample, and the class priors:\n",
    "#   1) Computes the class conditional probabilities given the sample\n",
    "#   2) Forms the joint likelihood\n",
    "#   3) Normalises the joint likelihood and returns the log prob\n",
    "\n"
   ]
  },
  {
   "cell_type": "markdown",
   "metadata": {},
   "source": [
    "#### Computing log_probs"
   ]
  },
  {
   "cell_type": "code",
   "execution_count": null,
   "metadata": {},
   "outputs": [],
   "source": [
    "# Predicting one example from our test data\n",
    "\n"
   ]
  },
  {
   "cell_type": "code",
   "execution_count": null,
   "metadata": {},
   "outputs": [],
   "source": [
    "# Loop over our test data and classify.\n",
    "\n",
    "probabilities = []\n",
    "for sample, label in zip(test_data, test_labels):\n",
    "    probabilities.append(tf.exp(predict_sample(tf_dist, sample, priors)))\n",
    "\n",
    "probabilities = np.asarray(probabilities)\n",
    "predicted_classes = np.argmax(probabilities, axis =-1)\n",
    "print('f1 ', f1_score(test_labels, predicted_classes, average='macro'))"
   ]
  },
  {
   "cell_type": "code",
   "execution_count": null,
   "metadata": {},
   "outputs": [],
   "source": [
    "# Make a Bernoulli Naive Bayes classifier using sklearn with the same level of alpha smoothing. \n",
    "\n",
    "clf = BernoulliNB(alpha=1)\n",
    "clf.fit(train_data, train_labels)\n",
    "pred = clf.predict(test_data)\n",
    "print('f1 from sklean ', f1_score(test_labels, pred, average='macro'))"
   ]
  },
  {
   "cell_type": "markdown",
   "metadata": {},
   "source": [
    "***\n",
    "<a id='trainable_distributions'></a>\n",
    "## Trainable Distributions"
   ]
  },
  {
   "cell_type": "code",
   "execution_count": null,
   "metadata": {},
   "outputs": [],
   "source": [
    "from sklearn.datasets import fetch_20newsgroups\n",
    "from sklearn.feature_extraction.text import CountVectorizer\n",
    "from sklearn.naive_bayes import BernoulliNB\n",
    "from sklearn.metrics import f1_score"
   ]
  },
  {
   "cell_type": "code",
   "execution_count": null,
   "metadata": {},
   "outputs": [],
   "source": [
    "# Define an exponential distribution\n",
    "\n"
   ]
  },
  {
   "cell_type": "code",
   "execution_count": null,
   "metadata": {},
   "outputs": [],
   "source": [
    "# Plot\n",
    "\n",
    "plt.hist(exponential.sample(5000), bins=100, density=True)\n",
    "plt.show()"
   ]
  },
  {
   "cell_type": "code",
   "execution_count": null,
   "metadata": {},
   "outputs": [],
   "source": [
    "# Define an exponential distribution with a trainable rate parameter\n",
    "\n"
   ]
  },
  {
   "cell_type": "code",
   "execution_count": null,
   "metadata": {},
   "outputs": [],
   "source": [
    "# Define the negative log likelihood\n",
    "\n"
   ]
  },
  {
   "cell_type": "code",
   "execution_count": null,
   "metadata": {},
   "outputs": [],
   "source": [
    "# Define a function to compute the loss and gradients\n",
    "\n"
   ]
  },
  {
   "cell_type": "code",
   "execution_count": null,
   "metadata": {},
   "outputs": [],
   "source": [
    "# Optimize\n",
    "\n",
    "def exponential_dist_optimisation(data, distribution):\n",
    "\n",
    "    # Keep results for plotting\n",
    "    train_loss_results = []\n",
    "    train_rate_results = []\n",
    "    \n",
    "    optimizer = tf.keras.optimizers.SGD(learning_rate=0.05)\n",
    "\n",
    "    num_steps = 10\n",
    "\n",
    "    for i in range(num_steps):\n",
    "        \n",
    "        print(\"Step {:03d}: Loss: {:.3f}: Rate: {:.3f}\".format())\n",
    "        \n",
    "    return train_loss_results, train_rate_results"
   ]
  },
  {
   "cell_type": "code",
   "execution_count": null,
   "metadata": {},
   "outputs": [],
   "source": [
    "# Get some data and train\n",
    "\n"
   ]
  },
  {
   "cell_type": "code",
   "execution_count": null,
   "metadata": {},
   "outputs": [],
   "source": [
    "# Predicted value for the rate parameter\n",
    "\n",
    "pred_value = exp_train.rate.numpy()\n",
    "exact_value = exponential.rate.numpy()\n",
    "\n",
    "print(\"Exact rate: \", exact_value)\n",
    "print(\"Pred rate:  \", pred_value)"
   ]
  },
  {
   "cell_type": "code",
   "execution_count": null,
   "metadata": {},
   "outputs": [],
   "source": [
    "# Plot to see the convergence of the estimated and true parameters\n",
    "\n",
    "tensor_exact_value = tf.constant(exact_value, shape=[len(train_rate_results)])\n",
    "\n",
    "fig, axes = plt.subplots(2, sharex=True, figsize=(12, 8))\n",
    "fig.suptitle('Convergence')\n",
    "\n",
    "axes[0].set_ylabel(\"Loss\", fontsize=14)\n",
    "axes[0].plot(train_loss_results)\n",
    "\n",
    "axes[1].set_ylabel(\"Rate\", fontsize=14)\n",
    "axes[1].set_xlabel(\"Epoch\", fontsize=14)\n",
    "axes[1].plot(train_rate_results, label='trainable rate variable')\n",
    "axes[1].plot(tensor_exact_value, label='exact rate')\n",
    "axes[1].legend()\n",
    "plt.show()"
   ]
  },
  {
   "cell_type": "code",
   "execution_count": null,
   "metadata": {},
   "outputs": [],
   "source": [
    "# Making a function get_data which:\n",
    "#   1) Fetches the 20 newsgroup dataset\n",
    "#   2) Performs a word count on the articles and binarizes the result\n",
    "#   3) Returns the data as a numpy matrix with the labels\n",
    "\n",
    "def get_data(categories):\n",
    "\n",
    "    newsgroups_train_data = fetch_20newsgroups(data_home='20_Newsgroup_Data/',\n",
    "                                               subset='train', categories=categories)\n",
    "    newsgroups_test_data = fetch_20newsgroups(data_home='20_Newsgroup_Data/',\n",
    "                                              subset='test', categories=categories)\n",
    "\n",
    "    n_documents = len(newsgroups_train_data['data'])\n",
    "    count_vectorizer = CountVectorizer(input='content', binary=True,max_df=0.25, min_df=1.01/n_documents) \n",
    "    train_binary_bag_of_words = count_vectorizer.fit_transform(newsgroups_train_data['data']) \n",
    "    test_binary_bag_of_words = count_vectorizer.transform(newsgroups_test_data['data']) \n",
    "\n",
    "    return (train_binary_bag_of_words.todense(), newsgroups_train_data['target']),  (test_binary_bag_of_words.todense(), newsgroups_test_data['target'])\n"
   ]
  },
  {
   "cell_type": "code",
   "execution_count": null,
   "metadata": {},
   "outputs": [],
   "source": [
    "# Defining a function to conduct laplace smoothing. This adds a base level of probability for a given feature\n",
    "# to occur in every class.\n",
    "\n",
    "def laplace_smoothing(labels, binary_data, n_classes):\n",
    "    # Compute the parameter estimates (adjusted fraction of documents in class that contain word)\n",
    "    n_words = binary_data.shape[1]\n",
    "    alpha = 1 # parameters for Laplace smoothing\n",
    "    theta = np.zeros([n_classes, n_words]) # stores parameter values - prob. word given class\n",
    "    for c_k in range(n_classes): # 0, 1, ..., 19\n",
    "        class_mask = (labels == c_k)\n",
    "        N = class_mask.sum() # number of articles in class\n",
    "        theta[c_k, :] = (binary_data[class_mask, :].sum(axis=0) + alpha)/(N + alpha*2)\n",
    "\n",
    "    return theta"
   ]
  },
  {
   "cell_type": "code",
   "execution_count": null,
   "metadata": {},
   "outputs": [],
   "source": [
    "# Now we will do a function that given the feature occurence counts returns a Bernoulli distribution of \n",
    "# batch_shape=number of classes and event_shape=number of features.\n",
    "\n",
    "def make_distributions(probs):\n",
    "    batch_of_bernoullis = tfd.Bernoulli(probs=probs) # shape (n_classes, n_words)\n",
    "    dist = tfd.Independent(batch_of_bernoullis, reinterpreted_batch_ndims=1)\n",
    "    return dist"
   ]
  },
  {
   "cell_type": "code",
   "execution_count": null,
   "metadata": {},
   "outputs": [],
   "source": [
    "# Function which computes the prior probability of every class based on frequency of occurence in \n",
    "# the dataset\n",
    "\n",
    "def class_priors(n_classes, labels):\n",
    "    counts = np.zeros(n_classes)\n",
    "    for c_k in range(n_classes):\n",
    "        counts[c_k] = np.sum(np.where(labels==c_k, 1, 0))\n",
    "    priors = counts / np.sum(counts)\n",
    "    print('The class priors are {}'.format(priors))\n",
    "    return priors"
   ]
  },
  {
   "cell_type": "code",
   "execution_count": null,
   "metadata": {},
   "outputs": [],
   "source": [
    "# The final function predict_sample which given the distribution, a test sample, and the class priors:\n",
    "#   1) Computes the class conditional probabilities given the sample\n",
    "#   2) Forms the joint likelihood\n",
    "#   3) Normalises the joint likelihood and returns the log prob\n",
    "\n",
    "def predict_sample(dist, sample, priors):\n",
    "    cond_probs = dist.log_prob(sample)\n",
    "    joint_likelihood = tf.add(np.log(priors), cond_probs)\n",
    "    norm_factor = tf.math.reduce_logsumexp(joint_likelihood, axis=-1, keepdims=True)\n",
    "    log_prob = joint_likelihood - norm_factor\n",
    "\n",
    "    return log_prob"
   ]
  },
  {
   "cell_type": "code",
   "execution_count": null,
   "metadata": {},
   "outputs": [],
   "source": [
    "# Now we learn the distribution using gradient tape\n",
    "\n",
    "def make_distribution_withGT(data, labels, nb_classes):\n",
    "\n",
    "    class_data = []\n",
    "    train_vars = []\n",
    "    distributions = []\n",
    "    for c in range(nb_classes):\n",
    "        train_vars.append(tf.Variable(initial_value=np.random.uniform(low=0.01, high =0.1, size=data.shape[-1])))\n",
    "        distributions.append(tfd.Bernoulli(probs=train_vars[c]))\n",
    "        class_mask = (labels == c)\n",
    "        class_data.append(data[class_mask, :])\n",
    "\n",
    "    for c_num in range(0,nb_classes):\n",
    "        optimizer = tf.keras.optimizers.Adam()\n",
    "        print('\\n%-------------------%')\n",
    "        print('Class ', c_num)\n",
    "        print('%-------------------%')\n",
    "\n",
    "        for i in range(0,100):\n",
    "            \n",
    "\n",
    "    dist = tfd.Bernoulli(probs=train_vars)\n",
    "    dist = tfd.Independent(dist,reinterpreted_batch_ndims=1)\n",
    "\n",
    "    print(dist)\n",
    "\n",
    "    return dist\n"
   ]
  },
  {
   "cell_type": "code",
   "execution_count": null,
   "metadata": {},
   "outputs": [],
   "source": [
    "# Make the same Naive Bayes classifier we did last tutorial\n",
    "\n",
    "categories = ['alt.atheism', 'talk.religion.misc', 'comp.graphics', 'sci.space']\n",
    "\n",
    "(train_data, train_labels), (test_data, test_labels) = get_data(categories)\n",
    "\n",
    "smoothed_counts = laplace_smoothing(labels=train_labels, binary_data=train_data, n_classes=len(categories))\n",
    "\n",
    "priors = class_priors(n_classes=len(categories), labels=train_labels)\n",
    "tf_dist = make_distributions(smoothed_counts)"
   ]
  },
  {
   "cell_type": "code",
   "execution_count": null,
   "metadata": {},
   "outputs": [],
   "source": [
    "# Now train the distributions with gradient tape\n",
    "\n",
    "GT_dist = make_distribution_withGT(data=train_data, labels=train_labels, nb_classes=4)"
   ]
  },
  {
   "cell_type": "code",
   "execution_count": null,
   "metadata": {},
   "outputs": [],
   "source": [
    "# Compare the two results\n",
    "\n",
    "for dist in [GT_dist,tf_dist]:\n",
    "    probabilities = []\n",
    "    for sample, label in zip(test_data, test_labels):\n",
    "        probabilities.append(predict_sample(dist, sample, priors))\n",
    "\n",
    "    probabilities = np.asarray(probabilities)\n",
    "    predicted_classes = np.argmax(probabilities, axis =-1)\n",
    "    print('f1 ', f1_score(test_labels, predicted_classes, average='macro'))"
   ]
  }
 ],
 "metadata": {
  "kernelspec": {
   "display_name": "Python 3",
   "language": "python",
   "name": "python3"
  },
  "language_info": {
   "codemirror_mode": {
    "name": "ipython",
    "version": 3
   },
   "file_extension": ".py",
   "mimetype": "text/x-python",
   "name": "python",
   "nbconvert_exporter": "python",
   "pygments_lexer": "ipython3",
   "version": "3.7.11"
  }
 },
 "nbformat": 4,
 "nbformat_minor": 4
}
