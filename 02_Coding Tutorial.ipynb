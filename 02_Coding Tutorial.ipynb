{
 "cells": [
  {
   "cell_type": "code",
   "execution_count": 3,
   "metadata": {},
   "outputs": [
    {
     "name": "stdout",
     "output_type": "stream",
     "text": [
      "TF version: 2.5.0\n",
      "TFP version: 0.13.0\n",
      "[PhysicalDevice(name='/physical_device:GPU:0', device_type='GPU')]\n"
     ]
    }
   ],
   "source": [
    "import tensorflow as tf\n",
    "import tensorflow_probability as tfp\n",
    "tfd = tfp.distributions\n",
    "tfpl = tfp.layers\n",
    "\n",
    "print('TF version:', tf.__version__)\n",
    "print('TFP version:', tfp.__version__)\n",
    "print(tf.config.list_physical_devices('GPU'))"
   ]
  },
  {
   "cell_type": "markdown",
   "metadata": {},
   "source": [
    "# Probabilistic layers and Bayesian neural networks"
   ]
  },
  {
   "cell_type": "markdown",
   "metadata": {},
   "source": [
    "## Coding tutorials\n",
    "#### [1. The DistributionLambda layer](#coding_tutorial_1)\n",
    "#### [2. Probabilistic layers](#coding_tutorial_2)\n",
    "#### [3. The DenseVariational layer](#coding_tutorial_3)\n",
    "#### [4. Reparameterization layers](#coding_tutorial_4)"
   ]
  },
  {
   "cell_type": "markdown",
   "metadata": {},
   "source": [
    "***\n",
    "<a id=\"coding_tutorial_1\"></a>\n",
    "## The `DistributionLambda` layer"
   ]
  },
  {
   "cell_type": "code",
   "execution_count": 4,
   "metadata": {},
   "outputs": [],
   "source": [
    "from tensorflow.keras.models import Sequential\n",
    "from tensorflow.keras.layers import Dense\n",
    "from tensorflow.keras.optimizers import RMSprop\n",
    "import numpy as np\n",
    "import matplotlib.pyplot as plt"
   ]
  },
  {
   "cell_type": "markdown",
   "metadata": {},
   "source": [
    "#### Create a probabilistic model using the `DistributionLambda` layer\n",
    "\n",
    "Create a model whose first layer represents:\n",
    "\n",
    "$$\n",
    "y = \\text{sigmoid}(x) = \\frac{1}{1 + \\exp(-x)}.\n",
    "$$"
   ]
  },
  {
   "cell_type": "code",
   "execution_count": 5,
   "metadata": {},
   "outputs": [
    {
     "data": {
      "image/png": "[encoded data removed]",
      "image/svg+xml": "<?xml version=\"1.0\" encoding=\"utf-8\" standalone=\"no\"?>\r\n<!DOCTYPE svg PUBLIC \"-//W3C//DTD SVG 1.1//EN\"\r\n  \"http://www.w3.org/Graphics/SVG/1.1/DTD/svg11.dtd\">\r\n<svg height=\"248.518125pt\" version=\"1.1\" viewBox=\"0 0 372.103125 248.518125\" width=\"372.103125pt\" xmlns=\"http://www.w3.org/2000/svg\" xmlns:xlink=\"http://www.w3.org/1999/xlink\">\r\n <metadata>\r\n  <rdf:RDF xmlns:cc=\"http://creativecommons.org/ns#\" xmlns:dc=\"http://purl.org/dc/elements/1.1/\" xmlns:rdf=\"http://www.w3.org/1999/02/22-rdf-syntax-ns#\">\r\n   <cc:Work>\r\n    <dc:type rdf:resource=\"http://purl.org/dc/dcmitype/StillImage\"/>\r\n    <dc:date>2021-12-26T22:20:28.073204</dc:date>\r\n    <dc:format>image/svg+xml</dc:format>\r\n    <dc:creator>\r\n     <cc:Agent>\r\n      <dc:title>Matplotlib v3.4.2, https://matplotlib.org/</dc:title>\r\n     </cc:Agent>\r\n    </dc:creator>\r\n   </cc:Work>\r\n  </rdf:RDF>\r\n </metadata>\r\n <defs>\r\n  <style type=\"text/css\">*{stroke-linecap:butt;stroke-linejoin:round;}</style>\r\n </defs>\r\n <g id=\"figure_1\">\r\n  <g id=\"patch_1\">\r\n   <path d=\"M 0 248.518125 \r\nL 372.103125 248.518125 \r\nL 372.103125 0 \r\nL 0 0 \r\nz\r\n\"/>\r\n  </g>\r\n  <g id=\"axes_1\">\r\n   <g id=\"patch_2\">\r\n    <path d=\"M 30.103125 224.64 \r\nL 364.903125 224.64 \r\nL 364.903125 7.2 \r\nL 30.103125 7.2 \r\nz\r\n\"/>\r\n   </g>\r\n   <g id=\"PathCollection_1\">\r\n    <defs>\r\n     <path d=\"M 0 3 \r\nC 0.795609 3 1.55874 2.683901 2.12132 2.12132 \r\nC 2.683901 1.55874 3 0.795609 3 0 \r\nC 3 -0.795609 2.683901 -1.55874 2.12132 -2.12132 \r\nC 1.55874 -2.683901 0.795609 -3 0 -3 \r\nC -0.795609 -3 -1.55874 -2.683901 -2.12132 -2.12132 \r\nC -2.683901 -1.55874 -3 -0.795609 -3 0 \r\nC -3 0.795609 -2.683901 1.55874 -2.12132 2.12132 \r\nC -1.55874 2.683901 -0.795609 3 0 3 \r\nz\r\n\" id=\"m4ace86a225\" style=\"stroke:#8dd3c7;stroke-opacity:0.4;\"/>\r\n    </defs>\r\n    <g clip-path=\"url(#pad10532d58)\">\r\n     <use style=\"fill:#8dd3c7;fill-opacity:0.4;stroke:#8dd3c7;stroke-opacity:0.4;\" x=\"45.321307\" xlink:href=\"#m4ace86a225\" y=\"214.756364\"/>\r\n     <use style=\"fill:#8dd3c7;fill-opacity:0.4;stroke:#8dd3c7;stroke-opacity:0.4;\" x=\"48.395687\" xlink:href=\"#m4ace86a225\" y=\"214.614892\"/>\r\n     <use style=\"fill:#8dd3c7;fill-opacity:0.4;stroke:#8dd3c7;stroke-opacity:0.4;\" x=\"51.470067\" xlink:href=\"#m4ace86a225\" y=\"214.458618\"/>\r\n     <use style=\"fill:#8dd3c7;fill-opacity:0.4;stroke:#8dd3c7;stroke-opacity:0.4;\" x=\"54.544447\" xlink:href=\"#m4ace86a225\" y=\"214.28602\"/>\r\n     <use style=\"fill:#8dd3c7;fill-opacity:0.4;stroke:#8dd3c7;stroke-opacity:0.4;\" x=\"57.618827\" xlink:href=\"#m4ace86a225\" y=\"214.095426\"/>\r\n     <use style=\"fill:#8dd3c7;fill-opacity:0.4;stroke:#8dd3c7;stroke-opacity:0.4;\" x=\"60.693208\" xlink:href=\"#m4ace86a225\" y=\"213.885\"/>\r\n     <use style=\"fill:#8dd3c7;fill-opacity:0.4;stroke:#8dd3c7;stroke-opacity:0.4;\" x=\"63.767588\" xlink:href=\"#m4ace86a225\" y=\"213.652728\"/>\r\n     <use style=\"fill:#8dd3c7;fill-opacity:0.4;stroke:#8dd3c7;stroke-opacity:0.4;\" x=\"66.841968\" xlink:href=\"#m4ace86a225\" y=\"213.396401\"/>\r\n     <use style=\"fill:#8dd3c7;fill-opacity:0.4;stroke:#8dd3c7;stroke-opacity:0.4;\" x=\"69.916348\" xlink:href=\"#m4ace86a225\" y=\"213.113603\"/>\r\n     <use style=\"fill:#8dd3c7;fill-opacity:0.4;stroke:#8dd3c7;stroke-opacity:0.4;\" x=\"72.990728\" xlink:href=\"#m4ace86a225\" y=\"212.801687\"/>\r\n     <use style=\"fill:#8dd3c7;fill-opacity:0.4;stroke:#8dd3c7;stroke-opacity:0.4;\" x=\"76.065108\" xlink:href=\"#m4ace86a225\" y=\"212.457767\"/>\r\n     <use style=\"fill:#8dd3c7;fill-opacity:0.4;stroke:#8dd3c7;stroke-opacity:0.4;\" x=\"79.139489\" xlink:href=\"#m4ace86a225\" y=\"212.078687\"/>\r\n     <use style=\"fill:#8dd3c7;fill-opacity:0.4;stroke:#8dd3c7;stroke-opacity:0.4;\" x=\"82.213869\" xlink:href=\"#m4ace86a225\" y=\"211.661014\"/>\r\n     <use style=\"fill:#8dd3c7;fill-opacity:0.4;stroke:#8dd3c7;stroke-opacity:0.4;\" x=\"85.288249\" xlink:href=\"#m4ace86a225\" y=\"211.201013\"/>\r\n     <use style=\"fill:#8dd3c7;fill-opacity:0.4;stroke:#8dd3c7;stroke-opacity:0.4;\" x=\"88.362629\" xlink:href=\"#m4ace86a225\" y=\"210.694631\"/>\r\n     <use style=\"fill:#8dd3c7;fill-opacity:0.4;stroke:#8dd3c7;stroke-opacity:0.4;\" x=\"91.437009\" xlink:href=\"#m4ace86a225\" y=\"210.137474\"/>\r\n     <use style=\"fill:#8dd3c7;fill-opacity:0.4;stroke:#8dd3c7;stroke-opacity:0.4;\" x=\"94.511389\" xlink:href=\"#m4ace86a225\" y=\"209.524797\"/>\r\n     <use style=\"fill:#8dd3c7;fill-opacity:0.4;stroke:#8dd3c7;stroke-opacity:0.4;\" x=\"97.58577\" xlink:href=\"#m4ace86a225\" y=\"208.851482\"/>\r\n     <use style=\"fill:#8dd3c7;fill-opacity:0.4;stroke:#8dd3c7;stroke-opacity:0.4;\" x=\"100.66015\" xlink:href=\"#m4ace86a225\" y=\"208.112035\"/>\r\n     <use style=\"fill:#8dd3c7;fill-opacity:0.4;stroke:#8dd3c7;stroke-opacity:0.4;\" x=\"103.73453\" xlink:href=\"#m4ace86a225\" y=\"207.300562\"/>\r\n     <use style=\"fill:#8dd3c7;fill-opacity:0.4;stroke:#8dd3c7;stroke-opacity:0.4;\" x=\"106.80891\" xlink:href=\"#m4ace86a225\" y=\"206.410779\"/>\r\n     <use style=\"fill:#8dd3c7;fill-opacity:0.4;stroke:#8dd3c7;stroke-opacity:0.4;\" x=\"109.88329\" xlink:href=\"#m4ace86a225\" y=\"205.436005\"/>\r\n     <use style=\"fill:#8dd3c7;fill-opacity:0.4;stroke:#8dd3c7;stroke-opacity:0.4;\" x=\"112.95767\" xlink:href=\"#m4ace86a225\" y=\"204.369168\"/>\r\n     <use style=\"fill:#8dd3c7;fill-opacity:0.4;stroke:#8dd3c7;stroke-opacity:0.4;\" x=\"116.032051\" xlink:href=\"#m4ace86a225\" y=\"203.202837\"/>\r\n     <use style=\"fill:#8dd3c7;fill-opacity:0.4;stroke:#8dd3c7;stroke-opacity:0.4;\" x=\"119.106431\" xlink:href=\"#m4ace86a225\" y=\"201.929227\"/>\r\n     <use style=\"fill:#8dd3c7;fill-opacity:0.4;stroke:#8dd3c7;stroke-opacity:0.4;\" x=\"122.180811\" xlink:href=\"#m4ace86a225\" y=\"200.540264\"/>\r\n     <use style=\"fill:#8dd3c7;fill-opacity:0.4;stroke:#8dd3c7;stroke-opacity:0.4;\" x=\"125.255191\" xlink:href=\"#m4ace86a225\" y=\"199.027615\"/>\r\n     <use style=\"fill:#8dd3c7;fill-opacity:0.4;stroke:#8dd3c7;stroke-opacity:0.4;\" x=\"128.329571\" xlink:href=\"#m4ace86a225\" y=\"197.382782\"/>\r\n     <use style=\"fill:#8dd3c7;fill-opacity:0.4;stroke:#8dd3c7;stroke-opacity:0.4;\" x=\"131.403951\" xlink:href=\"#m4ace86a225\" y=\"195.597183\"/>\r\n     <use style=\"fill:#8dd3c7;fill-opacity:0.4;stroke:#8dd3c7;stroke-opacity:0.4;\" x=\"134.478332\" xlink:href=\"#m4ace86a225\" y=\"193.66226\"/>\r\n     <use style=\"fill:#8dd3c7;fill-opacity:0.4;stroke:#8dd3c7;stroke-opacity:0.4;\" x=\"137.552712\" xlink:href=\"#m4ace86a225\" y=\"191.56961\"/>\r\n     <use style=\"fill:#8dd3c7;fill-opacity:0.4;stroke:#8dd3c7;stroke-opacity:0.4;\" x=\"140.627092\" xlink:href=\"#m4ace86a225\" y=\"189.311153\"/>\r\n     <use style=\"fill:#8dd3c7;fill-opacity:0.4;stroke:#8dd3c7;stroke-opacity:0.4;\" x=\"143.701472\" xlink:href=\"#m4ace86a225\" y=\"186.879298\"/>\r\n     <use style=\"fill:#8dd3c7;fill-opacity:0.4;stroke:#8dd3c7;stroke-opacity:0.4;\" x=\"146.775852\" xlink:href=\"#m4ace86a225\" y=\"184.26715\"/>\r\n     <use style=\"fill:#8dd3c7;fill-opacity:0.4;stroke:#8dd3c7;stroke-opacity:0.4;\" x=\"149.850232\" xlink:href=\"#m4ace86a225\" y=\"181.468721\"/>\r\n     <use style=\"fill:#8dd3c7;fill-opacity:0.4;stroke:#8dd3c7;stroke-opacity:0.4;\" x=\"152.924613\" xlink:href=\"#m4ace86a225\" y=\"178.479192\"/>\r\n     <use style=\"fill:#8dd3c7;fill-opacity:0.4;stroke:#8dd3c7;stroke-opacity:0.4;\" x=\"155.998993\" xlink:href=\"#m4ace86a225\" y=\"175.295103\"/>\r\n     <use style=\"fill:#8dd3c7;fill-opacity:0.4;stroke:#8dd3c7;stroke-opacity:0.4;\" x=\"159.073373\" xlink:href=\"#m4ace86a225\" y=\"171.914681\"/>\r\n     <use style=\"fill:#8dd3c7;fill-opacity:0.4;stroke:#8dd3c7;stroke-opacity:0.4;\" x=\"162.147753\" xlink:href=\"#m4ace86a225\" y=\"168.338032\"/>\r\n     <use style=\"fill:#8dd3c7;fill-opacity:0.4;stroke:#8dd3c7;stroke-opacity:0.4;\" x=\"165.222133\" xlink:href=\"#m4ace86a225\" y=\"164.567373\"/>\r\n     <use style=\"fill:#8dd3c7;fill-opacity:0.4;stroke:#8dd3c7;stroke-opacity:0.4;\" x=\"168.296513\" xlink:href=\"#m4ace86a225\" y=\"160.607277\"/>\r\n     <use style=\"fill:#8dd3c7;fill-opacity:0.4;stroke:#8dd3c7;stroke-opacity:0.4;\" x=\"171.370894\" xlink:href=\"#m4ace86a225\" y=\"156.464783\"/>\r\n     <use style=\"fill:#8dd3c7;fill-opacity:0.4;stroke:#8dd3c7;stroke-opacity:0.4;\" x=\"174.445274\" xlink:href=\"#m4ace86a225\" y=\"152.14956\"/>\r\n     <use style=\"fill:#8dd3c7;fill-opacity:0.4;stroke:#8dd3c7;stroke-opacity:0.4;\" x=\"177.519654\" xlink:href=\"#m4ace86a225\" y=\"147.673906\"/>\r\n     <use style=\"fill:#8dd3c7;fill-opacity:0.4;stroke:#8dd3c7;stroke-opacity:0.4;\" x=\"180.594034\" xlink:href=\"#m4ace86a225\" y=\"143.052733\"/>\r\n     <use style=\"fill:#8dd3c7;fill-opacity:0.4;stroke:#8dd3c7;stroke-opacity:0.4;\" x=\"183.668414\" xlink:href=\"#m4ace86a225\" y=\"138.303499\"/>\r\n     <use style=\"fill:#8dd3c7;fill-opacity:0.4;stroke:#8dd3c7;stroke-opacity:0.4;\" x=\"186.742794\" xlink:href=\"#m4ace86a225\" y=\"133.445945\"/>\r\n     <use style=\"fill:#8dd3c7;fill-opacity:0.4;stroke:#8dd3c7;stroke-opacity:0.4;\" x=\"189.817175\" xlink:href=\"#m4ace86a225\" y=\"128.501858\"/>\r\n     <use style=\"fill:#8dd3c7;fill-opacity:0.4;stroke:#8dd3c7;stroke-opacity:0.4;\" x=\"192.891555\" xlink:href=\"#m4ace86a225\" y=\"123.494705\"/>\r\n     <use style=\"fill:#8dd3c7;fill-opacity:0.4;stroke:#8dd3c7;stroke-opacity:0.4;\" x=\"195.965935\" xlink:href=\"#m4ace86a225\" y=\"118.449195\"/>\r\n     <use style=\"fill:#8dd3c7;fill-opacity:0.4;stroke:#8dd3c7;stroke-opacity:0.4;\" x=\"199.040315\" xlink:href=\"#m4ace86a225\" y=\"113.390816\"/>\r\n     <use style=\"fill:#8dd3c7;fill-opacity:0.4;stroke:#8dd3c7;stroke-opacity:0.4;\" x=\"202.114695\" xlink:href=\"#m4ace86a225\" y=\"108.345294\"/>\r\n     <use style=\"fill:#8dd3c7;fill-opacity:0.4;stroke:#8dd3c7;stroke-opacity:0.4;\" x=\"205.189075\" xlink:href=\"#m4ace86a225\" y=\"103.338141\"/>\r\n     <use style=\"fill:#8dd3c7;fill-opacity:0.4;stroke:#8dd3c7;stroke-opacity:0.4;\" x=\"208.263456\" xlink:href=\"#m4ace86a225\" y=\"98.394054\"/>\r\n     <use style=\"fill:#8dd3c7;fill-opacity:0.4;stroke:#8dd3c7;stroke-opacity:0.4;\" x=\"211.337836\" xlink:href=\"#m4ace86a225\" y=\"93.5365\"/>\r\n     <use style=\"fill:#8dd3c7;fill-opacity:0.4;stroke:#8dd3c7;stroke-opacity:0.4;\" x=\"214.412216\" xlink:href=\"#m4ace86a225\" y=\"88.78726\"/>\r\n     <use style=\"fill:#8dd3c7;fill-opacity:0.4;stroke:#8dd3c7;stroke-opacity:0.4;\" x=\"217.486596\" xlink:href=\"#m4ace86a225\" y=\"84.166098\"/>\r\n     <use style=\"fill:#8dd3c7;fill-opacity:0.4;stroke:#8dd3c7;stroke-opacity:0.4;\" x=\"220.560976\" xlink:href=\"#m4ace86a225\" y=\"79.690439\"/>\r\n     <use style=\"fill:#8dd3c7;fill-opacity:0.4;stroke:#8dd3c7;stroke-opacity:0.4;\" x=\"223.635356\" xlink:href=\"#m4ace86a225\" y=\"75.375222\"/>\r\n     <use style=\"fill:#8dd3c7;fill-opacity:0.4;stroke:#8dd3c7;stroke-opacity:0.4;\" x=\"226.709737\" xlink:href=\"#m4ace86a225\" y=\"71.232722\"/>\r\n     <use style=\"fill:#8dd3c7;fill-opacity:0.4;stroke:#8dd3c7;stroke-opacity:0.4;\" x=\"229.784117\" xlink:href=\"#m4ace86a225\" y=\"67.272626\"/>\r\n     <use style=\"fill:#8dd3c7;fill-opacity:0.4;stroke:#8dd3c7;stroke-opacity:0.4;\" x=\"232.858497\" xlink:href=\"#m4ace86a225\" y=\"63.501979\"/>\r\n     <use style=\"fill:#8dd3c7;fill-opacity:0.4;stroke:#8dd3c7;stroke-opacity:0.4;\" x=\"235.932877\" xlink:href=\"#m4ace86a225\" y=\"59.92533\"/>\r\n     <use style=\"fill:#8dd3c7;fill-opacity:0.4;stroke:#8dd3c7;stroke-opacity:0.4;\" x=\"239.007257\" xlink:href=\"#m4ace86a225\" y=\"56.544901\"/>\r\n     <use style=\"fill:#8dd3c7;fill-opacity:0.4;stroke:#8dd3c7;stroke-opacity:0.4;\" x=\"242.081637\" xlink:href=\"#m4ace86a225\" y=\"53.360813\"/>\r\n     <use style=\"fill:#8dd3c7;fill-opacity:0.4;stroke:#8dd3c7;stroke-opacity:0.4;\" x=\"245.156018\" xlink:href=\"#m4ace86a225\" y=\"50.371272\"/>\r\n     <use style=\"fill:#8dd3c7;fill-opacity:0.4;stroke:#8dd3c7;stroke-opacity:0.4;\" x=\"248.230398\" xlink:href=\"#m4ace86a225\" y=\"47.572852\"/>\r\n     <use style=\"fill:#8dd3c7;fill-opacity:0.4;stroke:#8dd3c7;stroke-opacity:0.4;\" x=\"251.304778\" xlink:href=\"#m4ace86a225\" y=\"44.960704\"/>\r\n     <use style=\"fill:#8dd3c7;fill-opacity:0.4;stroke:#8dd3c7;stroke-opacity:0.4;\" x=\"254.379158\" xlink:href=\"#m4ace86a225\" y=\"42.528858\"/>\r\n     <use style=\"fill:#8dd3c7;fill-opacity:0.4;stroke:#8dd3c7;stroke-opacity:0.4;\" x=\"257.453538\" xlink:href=\"#m4ace86a225\" y=\"40.270386\"/>\r\n     <use style=\"fill:#8dd3c7;fill-opacity:0.4;stroke:#8dd3c7;stroke-opacity:0.4;\" x=\"260.527918\" xlink:href=\"#m4ace86a225\" y=\"38.177754\"/>\r\n     <use style=\"fill:#8dd3c7;fill-opacity:0.4;stroke:#8dd3c7;stroke-opacity:0.4;\" x=\"263.602299\" xlink:href=\"#m4ace86a225\" y=\"36.242817\"/>\r\n     <use style=\"fill:#8dd3c7;fill-opacity:0.4;stroke:#8dd3c7;stroke-opacity:0.4;\" x=\"266.676679\" xlink:href=\"#m4ace86a225\" y=\"34.457216\"/>\r\n     <use style=\"fill:#8dd3c7;fill-opacity:0.4;stroke:#8dd3c7;stroke-opacity:0.4;\" x=\"269.751059\" xlink:href=\"#m4ace86a225\" y=\"32.812387\"/>\r\n     <use style=\"fill:#8dd3c7;fill-opacity:0.4;stroke:#8dd3c7;stroke-opacity:0.4;\" x=\"272.825439\" xlink:href=\"#m4ace86a225\" y=\"31.299746\"/>\r\n     <use style=\"fill:#8dd3c7;fill-opacity:0.4;stroke:#8dd3c7;stroke-opacity:0.4;\" x=\"275.899819\" xlink:href=\"#m4ace86a225\" y=\"29.910776\"/>\r\n     <use style=\"fill:#8dd3c7;fill-opacity:0.4;stroke:#8dd3c7;stroke-opacity:0.4;\" x=\"278.974199\" xlink:href=\"#m4ace86a225\" y=\"28.637179\"/>\r\n     <use style=\"fill:#8dd3c7;fill-opacity:0.4;stroke:#8dd3c7;stroke-opacity:0.4;\" x=\"282.04858\" xlink:href=\"#m4ace86a225\" y=\"27.470845\"/>\r\n     <use style=\"fill:#8dd3c7;fill-opacity:0.4;stroke:#8dd3c7;stroke-opacity:0.4;\" x=\"285.12296\" xlink:href=\"#m4ace86a225\" y=\"26.404012\"/>\r\n     <use style=\"fill:#8dd3c7;fill-opacity:0.4;stroke:#8dd3c7;stroke-opacity:0.4;\" x=\"288.19734\" xlink:href=\"#m4ace86a225\" y=\"25.429217\"/>\r\n     <use style=\"fill:#8dd3c7;fill-opacity:0.4;stroke:#8dd3c7;stroke-opacity:0.4;\" x=\"291.27172\" xlink:href=\"#m4ace86a225\" y=\"24.53945\"/>\r\n     <use style=\"fill:#8dd3c7;fill-opacity:0.4;stroke:#8dd3c7;stroke-opacity:0.4;\" x=\"294.3461\" xlink:href=\"#m4ace86a225\" y=\"23.727975\"/>\r\n     <use style=\"fill:#8dd3c7;fill-opacity:0.4;stroke:#8dd3c7;stroke-opacity:0.4;\" x=\"297.42048\" xlink:href=\"#m4ace86a225\" y=\"22.988522\"/>\r\n     <use style=\"fill:#8dd3c7;fill-opacity:0.4;stroke:#8dd3c7;stroke-opacity:0.4;\" x=\"300.494861\" xlink:href=\"#m4ace86a225\" y=\"22.315216\"/>\r\n     <use style=\"fill:#8dd3c7;fill-opacity:0.4;stroke:#8dd3c7;stroke-opacity:0.4;\" x=\"303.569241\" xlink:href=\"#m4ace86a225\" y=\"21.702529\"/>\r\n     <use style=\"fill:#8dd3c7;fill-opacity:0.4;stroke:#8dd3c7;stroke-opacity:0.4;\" x=\"306.643621\" xlink:href=\"#m4ace86a225\" y=\"21.145372\"/>\r\n     <use style=\"fill:#8dd3c7;fill-opacity:0.4;stroke:#8dd3c7;stroke-opacity:0.4;\" x=\"309.718001\" xlink:href=\"#m4ace86a225\" y=\"20.63898\"/>\r\n     <use style=\"fill:#8dd3c7;fill-opacity:0.4;stroke:#8dd3c7;stroke-opacity:0.4;\" x=\"312.792381\" xlink:href=\"#m4ace86a225\" y=\"20.178984\"/>\r\n     <use style=\"fill:#8dd3c7;fill-opacity:0.4;stroke:#8dd3c7;stroke-opacity:0.4;\" x=\"315.866761\" xlink:href=\"#m4ace86a225\" y=\"19.761322\"/>\r\n     <use style=\"fill:#8dd3c7;fill-opacity:0.4;stroke:#8dd3c7;stroke-opacity:0.4;\" x=\"318.941142\" xlink:href=\"#m4ace86a225\" y=\"19.382245\"/>\r\n     <use style=\"fill:#8dd3c7;fill-opacity:0.4;stroke:#8dd3c7;stroke-opacity:0.4;\" x=\"322.015522\" xlink:href=\"#m4ace86a225\" y=\"19.038314\"/>\r\n     <use style=\"fill:#8dd3c7;fill-opacity:0.4;stroke:#8dd3c7;stroke-opacity:0.4;\" x=\"325.089902\" xlink:href=\"#m4ace86a225\" y=\"18.726411\"/>\r\n     <use style=\"fill:#8dd3c7;fill-opacity:0.4;stroke:#8dd3c7;stroke-opacity:0.4;\" x=\"328.164282\" xlink:href=\"#m4ace86a225\" y=\"18.443599\"/>\r\n     <use style=\"fill:#8dd3c7;fill-opacity:0.4;stroke:#8dd3c7;stroke-opacity:0.4;\" x=\"331.238662\" xlink:href=\"#m4ace86a225\" y=\"18.187286\"/>\r\n     <use style=\"fill:#8dd3c7;fill-opacity:0.4;stroke:#8dd3c7;stroke-opacity:0.4;\" x=\"334.313042\" xlink:href=\"#m4ace86a225\" y=\"17.955013\"/>\r\n     <use style=\"fill:#8dd3c7;fill-opacity:0.4;stroke:#8dd3c7;stroke-opacity:0.4;\" x=\"337.387423\" xlink:href=\"#m4ace86a225\" y=\"17.74457\"/>\r\n     <use style=\"fill:#8dd3c7;fill-opacity:0.4;stroke:#8dd3c7;stroke-opacity:0.4;\" x=\"340.461803\" xlink:href=\"#m4ace86a225\" y=\"17.553975\"/>\r\n     <use style=\"fill:#8dd3c7;fill-opacity:0.4;stroke:#8dd3c7;stroke-opacity:0.4;\" x=\"343.536183\" xlink:href=\"#m4ace86a225\" y=\"17.381388\"/>\r\n     <use style=\"fill:#8dd3c7;fill-opacity:0.4;stroke:#8dd3c7;stroke-opacity:0.4;\" x=\"346.610563\" xlink:href=\"#m4ace86a225\" y=\"17.225126\"/>\r\n     <use style=\"fill:#8dd3c7;fill-opacity:0.4;stroke:#8dd3c7;stroke-opacity:0.4;\" x=\"349.684943\" xlink:href=\"#m4ace86a225\" y=\"17.083636\"/>\r\n    </g>\r\n   </g>\r\n   <g id=\"matplotlib.axis_1\">\r\n    <g id=\"xtick_1\">\r\n     <g id=\"line2d_1\">\r\n      <defs>\r\n       <path d=\"M 0 0 \r\nL 0 3.5 \r\n\" id=\"mbfcdd85c43\" style=\"stroke:#ffffff;stroke-width:0.8;\"/>\r\n      </defs>\r\n      <g>\r\n       <use style=\"fill:#ffffff;stroke:#ffffff;stroke-width:0.8;\" x=\"75.75767\" xlink:href=\"#mbfcdd85c43\" y=\"224.64\"/>\r\n      </g>\r\n     </g>\r\n     <g id=\"text_1\">\r\n      <!-- −4 -->\r\n      <g style=\"fill:#ffffff;\" transform=\"translate(68.386577 239.238437)scale(0.1 -0.1)\">\r\n       <defs>\r\n        <path d=\"M 678 2272 \r\nL 4684 2272 \r\nL 4684 1741 \r\nL 678 1741 \r\nL 678 2272 \r\nz\r\n\" id=\"DejaVuSans-2212\" transform=\"scale(0.015625)\"/>\r\n        <path d=\"M 2419 4116 \r\nL 825 1625 \r\nL 2419 1625 \r\nL 2419 4116 \r\nz\r\nM 2253 4666 \r\nL 3047 4666 \r\nL 3047 1625 \r\nL 3713 1625 \r\nL 3713 1100 \r\nL 3047 1100 \r\nL 3047 0 \r\nL 2419 0 \r\nL 2419 1100 \r\nL 313 1100 \r\nL 313 1709 \r\nL 2253 4666 \r\nz\r\n\" id=\"DejaVuSans-34\" transform=\"scale(0.015625)\"/>\r\n       </defs>\r\n       <use xlink:href=\"#DejaVuSans-2212\"/>\r\n       <use x=\"83.789062\" xlink:href=\"#DejaVuSans-34\"/>\r\n      </g>\r\n     </g>\r\n    </g>\r\n    <g id=\"xtick_2\">\r\n     <g id=\"line2d_2\">\r\n      <g>\r\n       <use style=\"fill:#ffffff;stroke:#ffffff;stroke-width:0.8;\" x=\"136.630398\" xlink:href=\"#mbfcdd85c43\" y=\"224.64\"/>\r\n      </g>\r\n     </g>\r\n     <g id=\"text_2\">\r\n      <!-- −2 -->\r\n      <g style=\"fill:#ffffff;\" transform=\"translate(129.259304 239.238437)scale(0.1 -0.1)\">\r\n       <defs>\r\n        <path d=\"M 1228 531 \r\nL 3431 531 \r\nL 3431 0 \r\nL 469 0 \r\nL 469 531 \r\nQ 828 903 1448 1529 \r\nQ 2069 2156 2228 2338 \r\nQ 2531 2678 2651 2914 \r\nQ 2772 3150 2772 3378 \r\nQ 2772 3750 2511 3984 \r\nQ 2250 4219 1831 4219 \r\nQ 1534 4219 1204 4116 \r\nQ 875 4013 500 3803 \r\nL 500 4441 \r\nQ 881 4594 1212 4672 \r\nQ 1544 4750 1819 4750 \r\nQ 2544 4750 2975 4387 \r\nQ 3406 4025 3406 3419 \r\nQ 3406 3131 3298 2873 \r\nQ 3191 2616 2906 2266 \r\nQ 2828 2175 2409 1742 \r\nQ 1991 1309 1228 531 \r\nz\r\n\" id=\"DejaVuSans-32\" transform=\"scale(0.015625)\"/>\r\n       </defs>\r\n       <use xlink:href=\"#DejaVuSans-2212\"/>\r\n       <use x=\"83.789062\" xlink:href=\"#DejaVuSans-32\"/>\r\n      </g>\r\n     </g>\r\n    </g>\r\n    <g id=\"xtick_3\">\r\n     <g id=\"line2d_3\">\r\n      <g>\r\n       <use style=\"fill:#ffffff;stroke:#ffffff;stroke-width:0.8;\" x=\"197.503125\" xlink:href=\"#mbfcdd85c43\" y=\"224.64\"/>\r\n      </g>\r\n     </g>\r\n     <g id=\"text_3\">\r\n      <!-- 0 -->\r\n      <g style=\"fill:#ffffff;\" transform=\"translate(194.321875 239.238437)scale(0.1 -0.1)\">\r\n       <defs>\r\n        <path d=\"M 2034 4250 \r\nQ 1547 4250 1301 3770 \r\nQ 1056 3291 1056 2328 \r\nQ 1056 1369 1301 889 \r\nQ 1547 409 2034 409 \r\nQ 2525 409 2770 889 \r\nQ 3016 1369 3016 2328 \r\nQ 3016 3291 2770 3770 \r\nQ 2525 4250 2034 4250 \r\nz\r\nM 2034 4750 \r\nQ 2819 4750 3233 4129 \r\nQ 3647 3509 3647 2328 \r\nQ 3647 1150 3233 529 \r\nQ 2819 -91 2034 -91 \r\nQ 1250 -91 836 529 \r\nQ 422 1150 422 2328 \r\nQ 422 3509 836 4129 \r\nQ 1250 4750 2034 4750 \r\nz\r\n\" id=\"DejaVuSans-30\" transform=\"scale(0.015625)\"/>\r\n       </defs>\r\n       <use xlink:href=\"#DejaVuSans-30\"/>\r\n      </g>\r\n     </g>\r\n    </g>\r\n    <g id=\"xtick_4\">\r\n     <g id=\"line2d_4\">\r\n      <g>\r\n       <use style=\"fill:#ffffff;stroke:#ffffff;stroke-width:0.8;\" x=\"258.375852\" xlink:href=\"#mbfcdd85c43\" y=\"224.64\"/>\r\n      </g>\r\n     </g>\r\n     <g id=\"text_4\">\r\n      <!-- 2 -->\r\n      <g style=\"fill:#ffffff;\" transform=\"translate(255.194602 239.238437)scale(0.1 -0.1)\">\r\n       <use xlink:href=\"#DejaVuSans-32\"/>\r\n      </g>\r\n     </g>\r\n    </g>\r\n    <g id=\"xtick_5\">\r\n     <g id=\"line2d_5\">\r\n      <g>\r\n       <use style=\"fill:#ffffff;stroke:#ffffff;stroke-width:0.8;\" x=\"319.24858\" xlink:href=\"#mbfcdd85c43\" y=\"224.64\"/>\r\n      </g>\r\n     </g>\r\n     <g id=\"text_5\">\r\n      <!-- 4 -->\r\n      <g style=\"fill:#ffffff;\" transform=\"translate(316.06733 239.238437)scale(0.1 -0.1)\">\r\n       <use xlink:href=\"#DejaVuSans-34\"/>\r\n      </g>\r\n     </g>\r\n    </g>\r\n   </g>\r\n   <g id=\"matplotlib.axis_2\">\r\n    <g id=\"ytick_1\">\r\n     <g id=\"line2d_6\">\r\n      <defs>\r\n       <path d=\"M 0 0 \r\nL -3.5 0 \r\n\" id=\"md6655f100c\" style=\"stroke:#ffffff;stroke-width:0.8;\"/>\r\n      </defs>\r\n      <g>\r\n       <use style=\"fill:#ffffff;stroke:#ffffff;stroke-width:0.8;\" x=\"30.103125\" xlink:href=\"#md6655f100c\" y=\"216.097307\"/>\r\n      </g>\r\n     </g>\r\n     <g id=\"text_6\">\r\n      <!-- 0.0 -->\r\n      <g style=\"fill:#ffffff;\" transform=\"translate(7.2 219.896526)scale(0.1 -0.1)\">\r\n       <defs>\r\n        <path d=\"M 684 794 \r\nL 1344 794 \r\nL 1344 0 \r\nL 684 0 \r\nL 684 794 \r\nz\r\n\" id=\"DejaVuSans-2e\" transform=\"scale(0.015625)\"/>\r\n       </defs>\r\n       <use xlink:href=\"#DejaVuSans-30\"/>\r\n       <use x=\"63.623047\" xlink:href=\"#DejaVuSans-2e\"/>\r\n       <use x=\"95.410156\" xlink:href=\"#DejaVuSans-30\"/>\r\n      </g>\r\n     </g>\r\n    </g>\r\n    <g id=\"ytick_2\">\r\n     <g id=\"line2d_7\">\r\n      <g>\r\n       <use style=\"fill:#ffffff;stroke:#ffffff;stroke-width:0.8;\" x=\"30.103125\" xlink:href=\"#md6655f100c\" y=\"176.026385\"/>\r\n      </g>\r\n     </g>\r\n     <g id=\"text_7\">\r\n      <!-- 0.2 -->\r\n      <g style=\"fill:#ffffff;\" transform=\"translate(7.2 179.825604)scale(0.1 -0.1)\">\r\n       <use xlink:href=\"#DejaVuSans-30\"/>\r\n       <use x=\"63.623047\" xlink:href=\"#DejaVuSans-2e\"/>\r\n       <use x=\"95.410156\" xlink:href=\"#DejaVuSans-32\"/>\r\n      </g>\r\n     </g>\r\n    </g>\r\n    <g id=\"ytick_3\">\r\n     <g id=\"line2d_8\">\r\n      <g>\r\n       <use style=\"fill:#ffffff;stroke:#ffffff;stroke-width:0.8;\" x=\"30.103125\" xlink:href=\"#md6655f100c\" y=\"135.955463\"/>\r\n      </g>\r\n     </g>\r\n     <g id=\"text_8\">\r\n      <!-- 0.4 -->\r\n      <g style=\"fill:#ffffff;\" transform=\"translate(7.2 139.754682)scale(0.1 -0.1)\">\r\n       <use xlink:href=\"#DejaVuSans-30\"/>\r\n       <use x=\"63.623047\" xlink:href=\"#DejaVuSans-2e\"/>\r\n       <use x=\"95.410156\" xlink:href=\"#DejaVuSans-34\"/>\r\n      </g>\r\n     </g>\r\n    </g>\r\n    <g id=\"ytick_4\">\r\n     <g id=\"line2d_9\">\r\n      <g>\r\n       <use style=\"fill:#ffffff;stroke:#ffffff;stroke-width:0.8;\" x=\"30.103125\" xlink:href=\"#md6655f100c\" y=\"95.884541\"/>\r\n      </g>\r\n     </g>\r\n     <g id=\"text_9\">\r\n      <!-- 0.6 -->\r\n      <g style=\"fill:#ffffff;\" transform=\"translate(7.2 99.68376)scale(0.1 -0.1)\">\r\n       <defs>\r\n        <path d=\"M 2113 2584 \r\nQ 1688 2584 1439 2293 \r\nQ 1191 2003 1191 1497 \r\nQ 1191 994 1439 701 \r\nQ 1688 409 2113 409 \r\nQ 2538 409 2786 701 \r\nQ 3034 994 3034 1497 \r\nQ 3034 2003 2786 2293 \r\nQ 2538 2584 2113 2584 \r\nz\r\nM 3366 4563 \r\nL 3366 3988 \r\nQ 3128 4100 2886 4159 \r\nQ 2644 4219 2406 4219 \r\nQ 1781 4219 1451 3797 \r\nQ 1122 3375 1075 2522 \r\nQ 1259 2794 1537 2939 \r\nQ 1816 3084 2150 3084 \r\nQ 2853 3084 3261 2657 \r\nQ 3669 2231 3669 1497 \r\nQ 3669 778 3244 343 \r\nQ 2819 -91 2113 -91 \r\nQ 1303 -91 875 529 \r\nQ 447 1150 447 2328 \r\nQ 447 3434 972 4092 \r\nQ 1497 4750 2381 4750 \r\nQ 2619 4750 2861 4703 \r\nQ 3103 4656 3366 4563 \r\nz\r\n\" id=\"DejaVuSans-36\" transform=\"scale(0.015625)\"/>\r\n       </defs>\r\n       <use xlink:href=\"#DejaVuSans-30\"/>\r\n       <use x=\"63.623047\" xlink:href=\"#DejaVuSans-2e\"/>\r\n       <use x=\"95.410156\" xlink:href=\"#DejaVuSans-36\"/>\r\n      </g>\r\n     </g>\r\n    </g>\r\n    <g id=\"ytick_5\">\r\n     <g id=\"line2d_10\">\r\n      <g>\r\n       <use style=\"fill:#ffffff;stroke:#ffffff;stroke-width:0.8;\" x=\"30.103125\" xlink:href=\"#md6655f100c\" y=\"55.81362\"/>\r\n      </g>\r\n     </g>\r\n     <g id=\"text_10\">\r\n      <!-- 0.8 -->\r\n      <g style=\"fill:#ffffff;\" transform=\"translate(7.2 59.612838)scale(0.1 -0.1)\">\r\n       <defs>\r\n        <path d=\"M 2034 2216 \r\nQ 1584 2216 1326 1975 \r\nQ 1069 1734 1069 1313 \r\nQ 1069 891 1326 650 \r\nQ 1584 409 2034 409 \r\nQ 2484 409 2743 651 \r\nQ 3003 894 3003 1313 \r\nQ 3003 1734 2745 1975 \r\nQ 2488 2216 2034 2216 \r\nz\r\nM 1403 2484 \r\nQ 997 2584 770 2862 \r\nQ 544 3141 544 3541 \r\nQ 544 4100 942 4425 \r\nQ 1341 4750 2034 4750 \r\nQ 2731 4750 3128 4425 \r\nQ 3525 4100 3525 3541 \r\nQ 3525 3141 3298 2862 \r\nQ 3072 2584 2669 2484 \r\nQ 3125 2378 3379 2068 \r\nQ 3634 1759 3634 1313 \r\nQ 3634 634 3220 271 \r\nQ 2806 -91 2034 -91 \r\nQ 1263 -91 848 271 \r\nQ 434 634 434 1313 \r\nQ 434 1759 690 2068 \r\nQ 947 2378 1403 2484 \r\nz\r\nM 1172 3481 \r\nQ 1172 3119 1398 2916 \r\nQ 1625 2713 2034 2713 \r\nQ 2441 2713 2670 2916 \r\nQ 2900 3119 2900 3481 \r\nQ 2900 3844 2670 4047 \r\nQ 2441 4250 2034 4250 \r\nQ 1625 4250 1398 4047 \r\nQ 1172 3844 1172 3481 \r\nz\r\n\" id=\"DejaVuSans-38\" transform=\"scale(0.015625)\"/>\r\n       </defs>\r\n       <use xlink:href=\"#DejaVuSans-30\"/>\r\n       <use x=\"63.623047\" xlink:href=\"#DejaVuSans-2e\"/>\r\n       <use x=\"95.410156\" xlink:href=\"#DejaVuSans-38\"/>\r\n      </g>\r\n     </g>\r\n    </g>\r\n    <g id=\"ytick_6\">\r\n     <g id=\"line2d_11\">\r\n      <g>\r\n       <use style=\"fill:#ffffff;stroke:#ffffff;stroke-width:0.8;\" x=\"30.103125\" xlink:href=\"#md6655f100c\" y=\"15.742698\"/>\r\n      </g>\r\n     </g>\r\n     <g id=\"text_11\">\r\n      <!-- 1.0 -->\r\n      <g style=\"fill:#ffffff;\" transform=\"translate(7.2 19.541916)scale(0.1 -0.1)\">\r\n       <defs>\r\n        <path d=\"M 794 531 \r\nL 1825 531 \r\nL 1825 4091 \r\nL 703 3866 \r\nL 703 4441 \r\nL 1819 4666 \r\nL 2450 4666 \r\nL 2450 531 \r\nL 3481 531 \r\nL 3481 0 \r\nL 794 0 \r\nL 794 531 \r\nz\r\n\" id=\"DejaVuSans-31\" transform=\"scale(0.015625)\"/>\r\n       </defs>\r\n       <use xlink:href=\"#DejaVuSans-31\"/>\r\n       <use x=\"63.623047\" xlink:href=\"#DejaVuSans-2e\"/>\r\n       <use x=\"95.410156\" xlink:href=\"#DejaVuSans-30\"/>\r\n      </g>\r\n     </g>\r\n    </g>\r\n   </g>\r\n   <g id=\"line2d_12\">\r\n    <path clip-path=\"url(#pad10532d58)\" d=\"M 45.321307 214.756364 \r\nL 48.395687 214.614892 \r\nL 51.470067 214.458618 \r\nL 54.544447 214.28602 \r\nL 57.618827 214.095426 \r\nL 60.693208 213.885 \r\nL 63.767588 213.652728 \r\nL 66.841968 213.396401 \r\nL 69.916348 213.113603 \r\nL 72.990728 212.801688 \r\nL 76.065108 212.457767 \r\nL 79.139489 212.078687 \r\nL 82.213869 211.661015 \r\nL 85.288249 211.201014 \r\nL 88.362629 210.694631 \r\nL 91.437009 210.137474 \r\nL 94.511389 209.524796 \r\nL 97.58577 208.851482 \r\nL 100.66015 208.112034 \r\nL 103.73453 207.300561 \r\nL 106.80891 206.410778 \r\nL 109.88329 205.436003 \r\nL 112.95767 204.369169 \r\nL 116.032051 203.202837 \r\nL 119.106431 201.929229 \r\nL 122.180811 200.540263 \r\nL 125.255191 199.027615 \r\nL 128.329571 197.382783 \r\nL 131.403951 195.597183 \r\nL 134.478332 193.662257 \r\nL 137.552712 191.569608 \r\nL 140.627092 189.311151 \r\nL 143.701472 186.879297 \r\nL 146.775852 184.26715 \r\nL 149.850232 181.468725 \r\nL 152.924613 178.479189 \r\nL 155.998993 175.295104 \r\nL 159.073373 171.914683 \r\nL 162.147753 168.338029 \r\nL 165.222133 164.567373 \r\nL 168.296513 160.607275 \r\nL 171.370894 156.464786 \r\nL 174.445274 152.14956 \r\nL 177.519654 147.673902 \r\nL 180.594034 143.052737 \r\nL 183.668414 138.303501 \r\nL 186.742794 133.445948 \r\nL 189.817175 128.501862 \r\nL 192.891555 123.494707 \r\nL 195.965935 118.449195 \r\nL 199.040315 113.39081 \r\nL 202.114695 108.345298 \r\nL 205.189075 103.338143 \r\nL 208.263456 98.394057 \r\nL 211.337836 93.536503 \r\nL 214.412216 88.787268 \r\nL 217.486596 84.166103 \r\nL 220.560976 79.690445 \r\nL 223.635356 75.375219 \r\nL 226.709737 71.23273 \r\nL 229.784117 67.272632 \r\nL 232.858497 63.501976 \r\nL 235.932877 59.925322 \r\nL 239.007257 56.544901 \r\nL 242.081637 53.360816 \r\nL 245.156018 50.37128 \r\nL 248.230398 47.572855 \r\nL 251.304778 44.960708 \r\nL 254.379158 42.528854 \r\nL 257.453538 40.270397 \r\nL 260.527918 38.177748 \r\nL 263.602299 36.242822 \r\nL 266.676679 34.457222 \r\nL 269.751059 32.81239 \r\nL 272.825439 31.299741 \r\nL 275.899819 29.910776 \r\nL 278.974199 28.637168 \r\nL 282.04858 27.470836 \r\nL 285.12296 26.404001 \r\nL 288.19734 25.429226 \r\nL 291.27172 24.539443 \r\nL 294.3461 23.727971 \r\nL 297.42048 22.988522 \r\nL 300.494861 22.315209 \r\nL 303.569241 21.702531 \r\nL 306.643621 21.145374 \r\nL 309.718001 20.638991 \r\nL 312.792381 20.17899 \r\nL 315.866761 19.761318 \r\nL 318.941142 19.382238 \r\nL 322.015522 19.038317 \r\nL 325.089902 18.726402 \r\nL 328.164282 18.443604 \r\nL 331.238662 18.187277 \r\nL 334.313042 17.955005 \r\nL 337.387423 17.744579 \r\nL 340.461803 17.553985 \r\nL 343.536183 17.381387 \r\nL 346.610563 17.225113 \r\nL 349.684943 17.083641 \r\n\" style=\"fill:none;stroke:#ff0000;stroke-linecap:square;stroke-opacity:0.8;stroke-width:1.5;\"/>\r\n   </g>\r\n   <g id=\"patch_3\">\r\n    <path d=\"M 30.103125 224.64 \r\nL 30.103125 7.2 \r\n\" style=\"fill:none;stroke:#ffffff;stroke-linecap:square;stroke-linejoin:miter;stroke-width:0.8;\"/>\r\n   </g>\r\n   <g id=\"patch_4\">\r\n    <path d=\"M 364.903125 224.64 \r\nL 364.903125 7.2 \r\n\" style=\"fill:none;stroke:#ffffff;stroke-linecap:square;stroke-linejoin:miter;stroke-width:0.8;\"/>\r\n   </g>\r\n   <g id=\"patch_5\">\r\n    <path d=\"M 30.103125 224.64 \r\nL 364.903125 224.64 \r\n\" style=\"fill:none;stroke:#ffffff;stroke-linecap:square;stroke-linejoin:miter;stroke-width:0.8;\"/>\r\n   </g>\r\n   <g id=\"patch_6\">\r\n    <path d=\"M 30.103125 7.2 \r\nL 364.903125 7.2 \r\n\" style=\"fill:none;stroke:#ffffff;stroke-linecap:square;stroke-linejoin:miter;stroke-width:0.8;\"/>\r\n   </g>\r\n  </g>\r\n </g>\r\n <defs>\r\n  <clipPath id=\"pad10532d58\">\r\n   <rect height=\"217.44\" width=\"334.8\" x=\"30.103125\" y=\"7.2\"/>\r\n  </clipPath>\r\n </defs>\r\n</svg>\r\n",
      "text/plain": [
       "<Figure size 432x288 with 1 Axes>"
      ]
     },
     "metadata": {},
     "output_type": "display_data"
    }
   ],
   "source": [
    "# Create a sigmoid model, first deterministic, then probabilistic\n",
    "\n",
    "model = Sequential([\n",
    "    Dense(input_shape=(1,), units=1, activation='sigmoid',\n",
    "          kernel_initializer=tf.constant_initializer(1),\n",
    "          bias_initializer=tf.constant_initializer(0)),\n",
    "])\n",
    "\n",
    "# Plot the function\n",
    "x_plot = np.linspace(-5, 5, 100)\n",
    "plt.scatter(x_plot, model.predict(x_plot), alpha=0.4)\n",
    "plt.plot(x_plot, 1/(1 + np.exp(-x_plot)), color='r', alpha=0.8)\n",
    "plt.show()"
   ]
  },
  {
   "cell_type": "code",
   "execution_count": null,
   "metadata": {},
   "outputs": [],
   "source": [
    "# Create a constant input for this model\n",
    "\n"
   ]
  },
  {
   "cell_type": "code",
   "execution_count": null,
   "metadata": {},
   "outputs": [],
   "source": [
    "# Explore the feedforward object...\n",
    "\n"
   ]
  },
  {
   "cell_type": "code",
   "execution_count": null,
   "metadata": {
    "scrolled": true
   },
   "outputs": [],
   "source": [
    "# ... and its behaviour under repeated calls\n",
    "\n"
   ]
  },
  {
   "cell_type": "markdown",
   "metadata": {},
   "source": [
    "#### Use the forward model to create probabilistic training data"
   ]
  },
  {
   "cell_type": "code",
   "execution_count": null,
   "metadata": {},
   "outputs": [],
   "source": [
    "# Use the model to create 500 training points\n",
    "\n",
    "x_train = np.linspace(-5, 5, 500)[:, np.newaxis]\n",
    "y_train = model.predict(x_train)\n",
    "\n",
    "# Plot the data and the mean of the distribution\n",
    "fig, ax = plt.subplots(figsize=(5, 5))\n",
    "ax.scatter(x_train, y_train, alpha=0.04, color='blue', label='samples')\n",
    "ax.plot(x_train, model(x_train).mean().numpy().flatten(), \n",
    "        color='red', alpha=0.8, label='mean')\n",
    "ax.legend()\n",
    "plt.show()"
   ]
  },
  {
   "cell_type": "markdown",
   "metadata": {},
   "source": [
    "#### Create a new probabilistic model with the wrong weights"
   ]
  },
  {
   "cell_type": "code",
   "execution_count": null,
   "metadata": {},
   "outputs": [],
   "source": [
    "# Create a new version of the model, with the wrong weights\n",
    "\n"
   ]
  },
  {
   "cell_type": "markdown",
   "metadata": {},
   "source": [
    "#### Train the new model with the negative loglikelihood"
   ]
  },
  {
   "cell_type": "code",
   "execution_count": null,
   "metadata": {},
   "outputs": [],
   "source": [
    "# Define negative loglikelihood, which we will use for training\n",
    "\n"
   ]
  },
  {
   "cell_type": "code",
   "execution_count": null,
   "metadata": {},
   "outputs": [],
   "source": [
    "# Compile untrained model\n",
    "\n"
   ]
  },
  {
   "cell_type": "code",
   "execution_count": null,
   "metadata": {},
   "outputs": [],
   "source": [
    "# Train model, record weights after each epoch\n",
    "\n",
    "epochs = [0]\n",
    "training_weights = [model_untrained.weights[0].numpy()[0, 0]]\n",
    "training_bias = [model_untrained.weights[1].numpy()[0]]\n",
    "for epoch in range(100):\n",
    "    model_untrained.fit(x=x_train, y=y_train, epochs=1, verbose=False)\n",
    "    epochs.append(epoch)\n",
    "    training_weights.append(model_untrained.weights[0].numpy()[0, 0])\n",
    "    training_bias.append(model_untrained.weights[1].numpy()[0])"
   ]
  },
  {
   "cell_type": "code",
   "execution_count": null,
   "metadata": {},
   "outputs": [],
   "source": [
    "# Plot the model weights as they train, converging to the correct values\n",
    "\n",
    "plt.plot(epochs, training_weights, label='weight')\n",
    "plt.plot(epochs, training_bias, label='bias')\n",
    "plt.axhline(y=1, label='true_weight', color='k', linestyle=':')\n",
    "plt.axhline(y=0, label='true_bias', color='k', linestyle='--')\n",
    "plt.xlabel('Epochs')\n",
    "plt.legend()\n",
    "plt.show()"
   ]
  },
  {
   "cell_type": "markdown",
   "metadata": {},
   "source": [
    "***\n",
    "<a id=\"coding_tutorial_2\"></a>\n",
    "## Probabilistic layers"
   ]
  },
  {
   "cell_type": "code",
   "execution_count": null,
   "metadata": {},
   "outputs": [],
   "source": [
    "from tensorflow.keras.models import Sequential\n",
    "from tensorflow.keras.layers import Dense\n",
    "from tensorflow.keras.losses import MeanSquaredError\n",
    "from tensorflow.keras.optimizers import RMSprop\n",
    "import numpy as np\n",
    "import matplotlib.pyplot as plt"
   ]
  },
  {
   "cell_type": "markdown",
   "metadata": {},
   "source": [
    "#### Create data\n",
    "\n",
    "The data you'll be working with is artifically created from the following equation:\n",
    "$$ y_i = x_i + \\frac{3}{10}\\epsilon_i$$\n",
    "where $\\epsilon_i \\sim N(0, 1)$ are independent and identically distributed."
   ]
  },
  {
   "cell_type": "code",
   "execution_count": null,
   "metadata": {},
   "outputs": [],
   "source": [
    "# Create and plot 100 points of training data\n",
    "\n",
    "x_train = np.linspace(-1, 1, 100)[:, np.newaxis]\n",
    "y_train = x_train + 0.3*np.random.randn(100)[:, np.newaxis]\n",
    "\n",
    "plt.scatter(x_train, y_train, alpha=0.4)\n",
    "plt.xlabel('x')\n",
    "plt.ylabel('y')\n",
    "plt.show()"
   ]
  },
  {
   "cell_type": "markdown",
   "metadata": {},
   "source": [
    "#### Deterministic linear regression with MSE loss"
   ]
  },
  {
   "cell_type": "code",
   "execution_count": null,
   "metadata": {},
   "outputs": [],
   "source": [
    "# Create and train deterministic linear model using mean squared error loss\n",
    "\n",
    "# Create linear regression via Sequential model\n",
    "model = Sequential([\n",
    "    Dense(units=1, input_shape=(1,))\n",
    "])\n",
    "model.compile(loss=MeanSquaredError(), optimizer=RMSprop(learning_rate=0.005))\n",
    "model.summary()\n",
    "model.fit(x_train, y_train, epochs=200, verbose=False)\n",
    "\n",
    "# Plot the data and model\n",
    "plt.scatter(x_train, y_train, alpha=0.4, label='data')\n",
    "plt.plot(x_train, model.predict(x_train), color='red', alpha=0.8, label='model')\n",
    "plt.legend()\n",
    "plt.show()"
   ]
  },
  {
   "cell_type": "code",
   "execution_count": null,
   "metadata": {},
   "outputs": [],
   "source": [
    "# Examine the model predictions\n",
    "\n"
   ]
  },
  {
   "cell_type": "markdown",
   "metadata": {},
   "source": [
    "#### Probabilistic linear regression with both user-defined and learned variance"
   ]
  },
  {
   "cell_type": "code",
   "execution_count": null,
   "metadata": {},
   "outputs": [],
   "source": [
    "# Create probabilistic regression with normal distribution as final layer\n",
    "\n"
   ]
  },
  {
   "cell_type": "code",
   "execution_count": null,
   "metadata": {},
   "outputs": [],
   "source": [
    "# Train model using the negative loglikelihood\n",
    "\n"
   ]
  },
  {
   "cell_type": "code",
   "execution_count": null,
   "metadata": {},
   "outputs": [],
   "source": [
    "# Examine the distribution created as a feedforward value\n",
    "\n"
   ]
  },
  {
   "cell_type": "code",
   "execution_count": null,
   "metadata": {},
   "outputs": [],
   "source": [
    "# Plot the data and a sample from the model\n",
    "\n",
    "y_model = model(x_train)\n",
    "y_sample = y_model.sample()\n",
    "y_hat = y_model.mean()\n",
    "y_sd = y_model.stddev()\n",
    "y_hat_m2sd = y_hat - 2 * y_sd\n",
    "y_hat_p2sd = y_hat + 2 * y_sd\n",
    "\n",
    "fig, (ax1, ax2) = plt.subplots(1, 2, figsize=(15, 5), sharey=True)\n",
    "ax1.scatter(x_train, y_train, alpha=0.4, label='data')\n",
    "ax1.scatter(x_train, y_sample, alpha=0.4, color='red', label='model sample')\n",
    "ax1.legend()\n",
    "ax2.scatter(x_train, y_train, alpha=0.4, label='data')\n",
    "ax2.plot(x_train, y_hat, color='red', alpha=0.8, label='model $\\mu$')\n",
    "ax2.plot(x_train, y_hat_m2sd, color='green', alpha=0.8, label='model $\\mu \\pm 2 \\sigma$')\n",
    "ax2.plot(x_train, y_hat_p2sd, color='green', alpha=0.8)\n",
    "ax2.legend()\n",
    "plt.show()"
   ]
  },
  {
   "cell_type": "markdown",
   "metadata": {},
   "source": [
    "#### Probabilistic linear regression with nonlinear learned mean & variance"
   ]
  },
  {
   "cell_type": "markdown",
   "metadata": {},
   "source": [
    "Let's change the data to being nonlinear:\n",
    "$$ y_i = x_i^3 + \\frac{1}{10}(2 + x_i)\\epsilon_i$$\n",
    "where $\\epsilon_i \\sim N(0, 1)$ are independent and identically distributed."
   ]
  },
  {
   "cell_type": "code",
   "execution_count": null,
   "metadata": {},
   "outputs": [],
   "source": [
    "# Create and plot 10000 data points\n",
    "\n",
    "x_train = np.linspace(-1, 1, 1000)[:, np.newaxis]\n",
    "y_train = np.power(x_train, 3) + 0.1*(2+x_train)*np.random.randn(1000)[:, np.newaxis]\n",
    "\n",
    "plt.scatter(x_train, y_train, alpha=0.1)\n",
    "plt.show()"
   ]
  },
  {
   "cell_type": "code",
   "execution_count": null,
   "metadata": {},
   "outputs": [],
   "source": [
    "# Create probabilistic regression: normal distribution with fixed variance\n",
    "\n",
    "model = Sequential([\n",
    "    Dense(input_shape=(1,), units=8, activation='sigmoid'),\n",
    "    Dense(tfpl.IndependentNormal.params_size(event_shape=1)),\n",
    "    tfpl.IndependentNormal(event_shape=1)\n",
    "])\n",
    "model.compile(loss=nll, optimizer=RMSprop(learning_rate=0.01))\n",
    "model.summary()"
   ]
  },
  {
   "cell_type": "code",
   "execution_count": null,
   "metadata": {},
   "outputs": [],
   "source": [
    "# Train model\n",
    "\n",
    "model.fit(x_train, y_train, epochs=200, verbose=False)\n",
    "model.evaluate(x_train, y_train)"
   ]
  },
  {
   "cell_type": "code",
   "execution_count": null,
   "metadata": {},
   "outputs": [],
   "source": [
    "# Plot the data and a sample from the model\n",
    "\n",
    "y_model = model(x_train)\n",
    "y_sample = y_model.sample()\n",
    "y_hat = y_model.mean()\n",
    "y_sd = y_model.stddev()\n",
    "y_hat_m2sd = y_hat - 2 * y_sd\n",
    "y_hat_p2sd = y_hat + 2 * y_sd\n",
    "\n",
    "fig, (ax1, ax2) = plt.subplots(1, 2, figsize=(15, 5), sharey=True)\n",
    "ax1.scatter(x_train, y_train, alpha=0.2, label='data')\n",
    "ax1.scatter(x_train, y_sample, alpha=0.2, color='red', label='model sample')\n",
    "ax1.legend()\n",
    "ax2.scatter(x_train, y_train, alpha=0.2, label='data')\n",
    "ax2.plot(x_train, y_hat, color='red', alpha=0.8, label='model $\\mu$')\n",
    "ax2.plot(x_train, y_hat_m2sd, color='green', alpha=0.8, label='model $\\mu \\pm 2 \\sigma$')\n",
    "ax2.plot(x_train, y_hat_p2sd, color='green', alpha=0.8)\n",
    "ax2.legend()\n",
    "plt.show()"
   ]
  },
  {
   "cell_type": "markdown",
   "metadata": {},
   "source": [
    "***\n",
    "<a id=\"coding_tutorial_3\"></a>\n",
    "## The `DenseVariational` layer"
   ]
  },
  {
   "cell_type": "code",
   "execution_count": null,
   "metadata": {},
   "outputs": [],
   "source": [
    "from tensorflow.keras.models import Sequential\n",
    "from tensorflow.keras.losses import MeanSquaredError\n",
    "from tensorflow.keras.optimizers import RMSprop\n",
    "import numpy as np\n",
    "import matplotlib.pyplot as plt"
   ]
  },
  {
   "cell_type": "markdown",
   "metadata": {},
   "source": [
    "#### Create linear data with Gaussian noise\n",
    "\n",
    "The data you'll be working with is the same as you used before:\n",
    "$$ y_i = x_i + \\frac{3}{10}\\epsilon_i$$\n",
    "where $\\epsilon_i \\sim N(0, 1)$ are independent and identically distributed. We'll be running a Bayesian linear regression on this data."
   ]
  },
  {
   "cell_type": "code",
   "execution_count": null,
   "metadata": {},
   "outputs": [],
   "source": [
    "# Use the same data as before -- create and plot 100 data points\n",
    "\n",
    "x_train = np.linspace(-1, 1, 100)[:, np.newaxis]\n",
    "y_train = x_train + 0.3*np.random.randn(100)[:, np.newaxis]\n",
    "\n",
    "plt.scatter(x_train, y_train, alpha=0.4)\n",
    "plt.show()"
   ]
  },
  {
   "cell_type": "markdown",
   "metadata": {},
   "source": [
    "#### Create the prior and posterior distribution for model weights"
   ]
  },
  {
   "cell_type": "code",
   "execution_count": null,
   "metadata": {},
   "outputs": [],
   "source": [
    "# Define the prior weight distribution -- all N(0, 1) -- and not trainable\n",
    "\n"
   ]
  },
  {
   "cell_type": "code",
   "execution_count": null,
   "metadata": {},
   "outputs": [],
   "source": [
    "# Define variational posterior weight distribution -- multivariate Gaussian\n",
    "\n"
   ]
  },
  {
   "cell_type": "markdown",
   "metadata": {},
   "source": [
    "#### Aside: analytical posterior\n",
    "\n",
    "In this tutorial, we're using a variational posterior because, in most settings, it's not possible to derive an analytical one. However, in this simple setting, it is possible. Specifically, running a Bayesian linear regression on $x_i$ and $y_i$ with $i=1, \\ldots, n$ and a unit Gaussian prior on both $\\alpha$ and $\\beta$:\n",
    "\n",
    "$$\n",
    "y_i = \\alpha + \\beta x_i + \\epsilon_i, \\quad \n",
    "\\epsilon_i \\sim N(0, \\sigma^2), \\quad \n",
    "\\alpha \\sim N(0, 1), \\quad \n",
    "\\beta \\sim N(0, 1)\n",
    "$$\n",
    "\n",
    "gives a multivariate Gaussian posterior on $\\alpha$ and $\\beta$:\n",
    "\n",
    "$$\n",
    "\\begin{pmatrix}\n",
    "\\alpha \\\\\n",
    "\\beta\n",
    "\\end{pmatrix}\n",
    "\\sim\n",
    "N(\\mathbf{\\mu}, \\mathbf{\\Sigma})\n",
    "$$\n",
    "where\n",
    "$$ \n",
    "\\mathbf{\\mu}\n",
    "= \n",
    "\\mathbf{\\Sigma} \n",
    "\\begin{pmatrix}\n",
    "\\hat{n} \\bar{y} \\\\\n",
    "\\hat{n} \\overline{xy}\n",
    "\\end{pmatrix},\n",
    "\\quad\n",
    "\\mathbf{\\Sigma} = \n",
    "\\frac{1}{(\\hat{n} + 1)(\\hat{n} \\overline{x^2} + 1) - \\hat{n}^2 \\bar{x}^2}\n",
    "\\begin{pmatrix}\n",
    "\\hat{n} \\overline{x^2} + 1 & -\\hat{n} \\bar{x} \\\\\n",
    "-\\hat{n} \\bar{x} & \\hat{n} + 1\n",
    "\\end{pmatrix}.\n",
    "$$\n",
    "\n",
    "In the above, $\\hat{n} = \\frac{n}{\\sigma^2}$ and $\\bar{t} = \\frac{1}{n}\\sum_{i=1}^n t_i$ for any $t$. In general, however, it's not possible to determine the analytical form for the posterior. For example, in models with a hidden layer with nonlinear activation function, the analytical posterior cannot be determined in general, and variational methods as below are useful."
   ]
  },
  {
   "cell_type": "markdown",
   "metadata": {},
   "source": [
    "#### Create the model with `DenseVariational` layers"
   ]
  },
  {
   "cell_type": "code",
   "execution_count": null,
   "metadata": {},
   "outputs": [],
   "source": [
    "# Create linear regression model with weight uncertainty: weights are\n",
    "# distributed according to posterior (and, indirectly, prior) distribution\n",
    "\n"
   ]
  },
  {
   "cell_type": "markdown",
   "metadata": {},
   "source": [
    "#### Train model and inspect"
   ]
  },
  {
   "cell_type": "code",
   "execution_count": null,
   "metadata": {},
   "outputs": [],
   "source": [
    "# Fit the model, just like a deterministic linear regression\n",
    "\n",
    "model.fit(x_train, y_train, epochs=500, verbose=False)"
   ]
  },
  {
   "cell_type": "code",
   "execution_count": null,
   "metadata": {},
   "outputs": [],
   "source": [
    "# Check out the parameters of the prior and posterior distribution\n",
    "\n",
    "dummy_input = np.array([[0]])\n",
    "model_prior = model.layers[0]._prior(dummy_input)\n",
    "model_posterior = model.layers[0]._posterior(dummy_input)\n",
    "print('prior mean:           ', model_prior.mean().numpy())\n",
    "print('prior variance:       ', model_prior.variance().numpy())\n",
    "print('posterior mean:       ', model_posterior.mean().numpy())\n",
    "print('posterior covariance: ', model_posterior.covariance().numpy()[0])\n",
    "print('                      ', model_posterior.covariance().numpy()[1])"
   ]
  },
  {
   "cell_type": "code",
   "execution_count": null,
   "metadata": {},
   "outputs": [],
   "source": [
    "# Plot an ensemble of linear regressions, with weights sampled from\n",
    "# the posterior distribution\n",
    "\n",
    "plt.scatter(x_train, y_train, alpha=0.4, label='data')\n",
    "for _ in range(10):\n",
    "    y_model = model(x_train)\n",
    "    if _ == 0:\n",
    "        plt.plot(x_train, y_model, color='red', alpha=0.8, label='model')\n",
    "    else:\n",
    "        plt.plot(x_train, y_model, color='red', alpha=0.8)        \n",
    "plt.legend()\n",
    "plt.show()"
   ]
  },
  {
   "cell_type": "markdown",
   "metadata": {},
   "source": [
    "#### Explore the effect of sample size"
   ]
  },
  {
   "cell_type": "code",
   "execution_count": null,
   "metadata": {},
   "outputs": [],
   "source": [
    "# Create two datasets, one with 1000 points, another with 100\n",
    "\n",
    "x_train_1000 = np.linspace(-1, 1, 1000)[:, np.newaxis]\n",
    "y_train_1000 = x_train_1000 + 0.3*np.random.randn(1000)[:, np.newaxis]\n",
    "\n",
    "x_train_100 = np.linspace(-1, 1, 100)[:, np.newaxis]\n",
    "y_train_100 = x_train_100 + 0.3*np.random.randn(100)[:, np.newaxis]\n",
    "\n",
    "fig, (ax1, ax2) = plt.subplots(1, 2, figsize=(10, 4), sharex=True, sharey=True)\n",
    "ax1.scatter(x_train_1000, y_train_1000, alpha=0.1)\n",
    "ax2.scatter(x_train_100, y_train_100, alpha=0.4)\n",
    "plt.show()"
   ]
  },
  {
   "cell_type": "code",
   "execution_count": null,
   "metadata": {},
   "outputs": [],
   "source": [
    "# Train a model on each dataset\n",
    "\n",
    "model_1000 = Sequential([tfpl.DenseVariational(input_shape=(1,), \n",
    "                                               units=1,\n",
    "                                               make_prior_fn=prior, \n",
    "                                               make_posterior_fn=posterior,\n",
    "                                               kl_weight=1/1000)])\n",
    "\n",
    "model_100 = Sequential([tfpl.DenseVariational(input_shape=(1,), \n",
    "                                              units=1,\n",
    "                                              make_prior_fn=prior, \n",
    "                                              make_posterior_fn=posterior,\n",
    "                                              kl_weight=1/100)])\n",
    "\n",
    "model_1000.compile(loss=MeanSquaredError(), optimizer=RMSprop(learning_rate=0.005))\n",
    "model_100.compile(loss=MeanSquaredError(), optimizer=RMSprop(learning_rate=0.005))\n",
    "\n",
    "model_1000.fit(x_train_1000, y_train_1000, epochs=50, verbose=False)\n",
    "model_100.fit(x_train_100, y_train_100, epochs=500, verbose=False)"
   ]
  },
  {
   "cell_type": "code",
   "execution_count": null,
   "metadata": {},
   "outputs": [],
   "source": [
    "# Plot an ensemble of linear regressions from each model\n",
    "\n",
    "fig, (ax1, ax2) = plt.subplots(1, 2, figsize=(10, 4), sharex=True, sharey=True)\n",
    "for _ in range(10):\n",
    "    y_model_1000 = model_1000(x_train_1000)\n",
    "    ax1.scatter(x_train_1000, y_train_1000, color='C0', alpha=0.02)\n",
    "    ax1.plot(x_train_1000, y_model_1000, color='red', alpha=0.8)\n",
    "    y_model_100 = model_100(x_train_100)\n",
    "    ax2.scatter(x_train_100, y_train_100, color='C0', alpha=0.05)\n",
    "    ax2.plot(x_train_100, y_model_100, color='red', alpha=0.8)\n",
    "plt.show()"
   ]
  },
  {
   "cell_type": "markdown",
   "metadata": {},
   "source": [
    "#### Put it all together: nonlinear probabilistic regression with weight uncertainty"
   ]
  },
  {
   "cell_type": "markdown",
   "metadata": {},
   "source": [
    "Let's change the data to being nonlinear:\n",
    "$$ y_i = x_i^3 + \\frac{1}{10}(2 + x_i)\\epsilon_i$$\n",
    "where $\\epsilon_i \\sim N(0, 1)$ are independent and identically distributed."
   ]
  },
  {
   "cell_type": "code",
   "execution_count": null,
   "metadata": {},
   "outputs": [],
   "source": [
    "# Create and plot 1000 data points\n",
    "\n",
    "x_train = np.linspace(-1, 1, 1000)[:, np.newaxis]\n",
    "y_train = np.power(x_train, 3) + 0.1*(2+x_train)*np.random.randn(1000)[:, np.newaxis]\n",
    "\n",
    "plt.scatter(x_train, y_train, alpha=0.1)\n",
    "plt.show()"
   ]
  },
  {
   "cell_type": "code",
   "execution_count": null,
   "metadata": {},
   "outputs": [],
   "source": [
    "# Create probabilistic regression with one hidden layer, weight uncertainty\n",
    "\n",
    "model = Sequential([\n",
    "    tfpl.DenseVariational(units=8,\n",
    "                          input_shape=(1,),\n",
    "                          make_prior_fn=prior,\n",
    "                          make_posterior_fn=posterior,\n",
    "                          kl_weight=1/x_train.shape[0],\n",
    "                          activation='sigmoid'),\n",
    "    tfpl.DenseVariational(units=tfpl.IndependentNormal.params_size(1),\n",
    "                          make_prior_fn=prior,\n",
    "                          make_posterior_fn=posterior,\n",
    "                          kl_weight=1/x_train.shape[0]),\n",
    "    tfpl.IndependentNormal(1)\n",
    "])\n",
    "\n",
    "def nll(y_true, y_pred):\n",
    "    return -y_pred.log_prob(y_true)\n",
    "\n",
    "model.compile(loss=nll, optimizer=RMSprop(learning_rate=0.005))\n",
    "model.summary()"
   ]
  },
  {
   "cell_type": "code",
   "execution_count": null,
   "metadata": {},
   "outputs": [],
   "source": [
    "# Train the model\n",
    "\n",
    "model.fit(x_train, y_train, epochs=100, verbose=False)\n",
    "model.evaluate(x_train, y_train)"
   ]
  },
  {
   "cell_type": "code",
   "execution_count": null,
   "metadata": {},
   "outputs": [],
   "source": [
    "# Plot an ensemble of trained probabilistic regressions\n",
    "\n",
    "plt.scatter(x_train, y_train, marker='.', alpha=0.2, label='data')\n",
    "for _ in range(5):\n",
    "    y_model = model(x_train)\n",
    "    y_hat = y_model.mean()\n",
    "    y_hat_m2sd = y_hat - 2 * y_model.stddev()\n",
    "    y_hat_p2sd = y_hat + 2 * y_model.stddev()\n",
    "    if _ == 0:\n",
    "        plt.plot(x_train, y_hat, color='red', alpha=0.8, label='model $\\mu$')\n",
    "        plt.plot(x_train, y_hat_m2sd, color='green', alpha=0.8, label='model $\\mu \\pm 2 \\sigma$')\n",
    "        plt.plot(x_train, y_hat_p2sd, color='green', alpha=0.8)\n",
    "    else:\n",
    "        plt.plot(x_train, y_hat, color='red', alpha=0.8)\n",
    "        plt.plot(x_train, y_hat_m2sd, color='green', alpha=0.8)\n",
    "        plt.plot(x_train, y_hat_p2sd, color='green', alpha=0.8)        \n",
    "plt.legend()\n",
    "plt.show()"
   ]
  },
  {
   "cell_type": "markdown",
   "metadata": {},
   "source": [
    "***\n",
    "<a id=\"coding_tutorial_4\"></a>\n",
    "## Reparameterization layers"
   ]
  },
  {
   "cell_type": "code",
   "execution_count": null,
   "metadata": {},
   "outputs": [],
   "source": [
    "from tensorflow.keras.models import Sequential\n",
    "from tensorflow.keras.layers import Dense, Conv1D, MaxPooling1D, Flatten\n",
    "from tensorflow.keras.losses import SparseCategoricalCrossentropy\n",
    "from tensorflow.keras.optimizers import RMSprop\n",
    "import os\n",
    "import numpy as np\n",
    "import matplotlib.pyplot as plt"
   ]
  },
  {
   "cell_type": "markdown",
   "metadata": {},
   "source": [
    "#### Load in the HAR dataset"
   ]
  },
  {
   "cell_type": "markdown",
   "metadata": {},
   "source": [
    "You'll be working with the [Human Activity Recognition (HAR) Using Smartphones](https://archive.ics.uci.edu/ml/datasets/Human+Activity+Recognition+Using+Smartphones) dataset. It consists of the readings from an accelerometer (which measures acceleration) carried by a human doing different activities. The six activities are walking horizontally, walking upstairs, walking downstairs, sitting, standing and laying down. The accelerometer is inside a smartphone, and, every 0.02 seconds (50 times per second), it takes six readings: linear and gyroscopic acceleration in the x, y and z directions. See [this link](https://archive.ics.uci.edu/ml/datasets/Human+Activity+Recognition+Using+Smartphones) for details and download. If you use it in your own research, please cite the following paper:\n",
    "\n",
    "- Davide Anguita, Alessandro Ghio, Luca Oneto, Xavier Parra and Jorge L. Reyes-Ortiz. A Public Domain Dataset for Human Activity Recognition Using Smartphones. 21th European Symposium on Artificial Neural Networks, Computational Intelligence and Machine Learning, ESANN 2013. Bruges, Belgium 24-26 April 2013. \n",
    "\n",
    "The goal is to use the accelerometer data to predict the activity."
   ]
  },
  {
   "cell_type": "code",
   "execution_count": null,
   "metadata": {},
   "outputs": [],
   "source": [
    "# Load the HAR dataset and create some data processing functions\n",
    "\n",
    "# Function to load the data from file\n",
    "def load_HAR_data():\n",
    "    data_dir = 'data/HAR/'\n",
    "    x_train = np.load(os.path.join(data_dir, 'x_train.npy'))[..., :6]\n",
    "    y_train = np.load(os.path.join(data_dir, 'y_train.npy')) - 1\n",
    "    x_test  = np.load(os.path.join(data_dir, 'x_test.npy'))[..., :6]\n",
    "    y_test  = np.load(os.path.join(data_dir, 'y_test.npy')) - 1\n",
    "    return (x_train, y_train), (x_test, y_test)\n",
    "\n",
    "# Dictionary containing the labels and the associated activities\n",
    "label_to_activity = {0: 'walking horizontally', 1: 'walking upstairs', 2: 'walking downstairs',\n",
    "                     3: 'sitting', 4: 'standing', 5: 'laying'}\n",
    "\n",
    "# Function to change integer labels to one-hot labels\n",
    "def integer_to_onehot(data_integer):\n",
    "    data_onehot = np.zeros(shape=(data_integer.shape[0], data_integer.max()+1))\n",
    "    for row in range(data_integer.shape[0]):\n",
    "        integer = int(data_integer[row])\n",
    "        data_onehot[row, integer] = 1\n",
    "    return data_onehot\n",
    "\n",
    "# Load the data\n",
    "(x_train, y_train), (x_test, y_test) = load_HAR_data()\n",
    "y_train_oh = integer_to_onehot(y_train)\n",
    "y_test_oh = integer_to_onehot(y_test)"
   ]
  },
  {
   "cell_type": "code",
   "execution_count": null,
   "metadata": {},
   "outputs": [],
   "source": [
    "# Inspect some of the data by making plots\n",
    "\n",
    "def make_plots(num_examples_per_category):\n",
    "    for label in range(6):\n",
    "        x_label = x_train[y_train[:, 0] == label]\n",
    "        for i in range(num_examples_per_category):\n",
    "            fig, ax = plt.subplots(figsize=(10, 1))\n",
    "            ax.imshow(x_label[100*i].T, cmap='Greys', vmin=-1, vmax=1)\n",
    "            ax.axis('off')\n",
    "            if i == 0:\n",
    "                ax.set_title(label_to_activity[label])\n",
    "            plt.show()\n",
    "        \n",
    "make_plots(1)"
   ]
  },
  {
   "cell_type": "markdown",
   "metadata": {},
   "source": [
    "#### 1D deterministic convolutional neural network"
   ]
  },
  {
   "cell_type": "code",
   "execution_count": null,
   "metadata": {},
   "outputs": [],
   "source": [
    "# Create standard deterministic model with:\n",
    "# - Conv1D\n",
    "# - MaxPooling\n",
    "# - Flatten\n",
    "# - Dense with Softmax\n",
    "\n",
    "model = Sequential([\n",
    "    Conv1D(input_shape=(128, 6), filters=8, kernel_size=16, activation='relu'),\n",
    "    MaxPooling1D(pool_size=16),\n",
    "    Flatten(),\n",
    "    Dense(units=6, activation='softmax')\n",
    "])\n",
    "model.summary()"
   ]
  },
  {
   "cell_type": "markdown",
   "metadata": {},
   "source": [
    "#### Probabilistic 1D convolutional neural network, with both weight and output uncertainty"
   ]
  },
  {
   "cell_type": "code",
   "execution_count": null,
   "metadata": {},
   "outputs": [],
   "source": [
    "# Create probablistic model with the following layers:\n",
    "#  - Conv1D\n",
    "#  - MaxPooling\n",
    "#  - Flatten\n",
    "#  - Dense\n",
    "#  - OneHotCategorical\n",
    "\n"
   ]
  },
  {
   "cell_type": "code",
   "execution_count": null,
   "metadata": {},
   "outputs": [],
   "source": [
    "# Replace analytical Kullback-Leibler divergence with approximated one\n",
    "\n",
    "def kl_approx(q, p, q_tensor):\n",
    "    return tf.reduce_mean(q.log_prob(q_tensor) - p.log_prob(q_tensor))\n",
    "\n",
    "divergence_fn = lambda q, p, q_tensor : kl_approx(q, p, q_tensor) / x_train.shape[0]"
   ]
  },
  {
   "cell_type": "code",
   "execution_count": null,
   "metadata": {},
   "outputs": [],
   "source": [
    "# Compile the model using the negative loglikelihood\n",
    "\n",
    "def nll(y_true, y_pred):\n",
    "    return -y_pred.log_prob(y_true)\n",
    "\n",
    "model.compile(loss=nll,\n",
    "              optimizer=RMSprop(learning_rate=0.005),\n",
    "              metrics=['accuracy'],\n",
    "              experimental_run_tf_function=False)"
   ]
  },
  {
   "cell_type": "code",
   "execution_count": null,
   "metadata": {},
   "outputs": [],
   "source": [
    "# Train the model\n",
    "\n",
    "model.fit(x_train, y_train_oh, epochs=20, verbose=False)\n",
    "model.evaluate(x_train, y_train_oh)\n",
    "model.evaluate(x_test, y_test_oh)"
   ]
  },
  {
   "cell_type": "markdown",
   "metadata": {},
   "source": [
    "#### Inspect model performance"
   ]
  },
  {
   "cell_type": "code",
   "execution_count": null,
   "metadata": {},
   "outputs": [],
   "source": [
    "# Define function to analyse model predictions versus true labels\n",
    "\n",
    "def analyse_model_predictions(image_num):\n",
    "\n",
    "    # Show the accelerometer data\n",
    "    print('------------------------------')\n",
    "    print('Accelerometer data:')\n",
    "    fig, ax = plt.subplots(figsize=(10, 1))\n",
    "    ax.imshow(x_test[image_num].T, cmap='Greys', vmin=-1, vmax=1)\n",
    "    ax.axis('off')\n",
    "    plt.show()\n",
    "\n",
    "    # Print the true activity\n",
    "    print('------------------------------')\n",
    "    print('True activity:', label_to_activity[y_test[image_num, 0]])\n",
    "    print('')\n",
    "\n",
    "    # Print the probabilities the model assigns\n",
    "    print('------------------------------')\n",
    "    print('Model estimated probabilities:')\n",
    "    # Create ensemble of predicted probabilities\n",
    "    predicted_probabilities = np.empty(shape=(200, 6))\n",
    "    for i in range(200):\n",
    "        predicted_probabilities[i] = model(x_test[image_num][np.newaxis, ...]).mean().numpy()[0]\n",
    "    pct_2p5 = np.array([np.percentile(predicted_probabilities[:, i], 2.5) for i in range(6)])\n",
    "    pct_97p5 = np.array([np.percentile(predicted_probabilities[:, i], 97.5) for i in range(6)])\n",
    "    # Make the plots\n",
    "    fig, ax = plt.subplots(figsize=(9, 3))\n",
    "    bar = ax.bar(np.arange(6), pct_97p5, color='red')\n",
    "    bar[y_test[image_num, 0]].set_color('green')\n",
    "    bar = ax.bar(np.arange(6), pct_2p5-0.02, color='white', linewidth=1, edgecolor='white')\n",
    "    ax.set_xticklabels([''] + [activity for activity in label_to_activity.values()],\n",
    "                       rotation=45, horizontalalignment='right')\n",
    "    ax.set_ylim([0, 1])\n",
    "    ax.set_ylabel('Probability')\n",
    "    plt.show()"
   ]
  },
  {
   "cell_type": "code",
   "execution_count": null,
   "metadata": {},
   "outputs": [],
   "source": []
  },
  {
   "cell_type": "code",
   "execution_count": null,
   "metadata": {},
   "outputs": [],
   "source": []
  },
  {
   "cell_type": "code",
   "execution_count": null,
   "metadata": {},
   "outputs": [],
   "source": []
  }
 ],
 "metadata": {
  "kernelspec": {
   "display_name": "Python 3",
   "language": "python",
   "name": "python3"
  },
  "language_info": {
   "codemirror_mode": {
    "name": "ipython",
    "version": 3
   },
   "file_extension": ".py",
   "mimetype": "text/x-python",
   "name": "python",
   "nbconvert_exporter": "python",
   "pygments_lexer": "ipython3",
   "version": "3.7.11"
  }
 },
 "nbformat": 4,
 "nbformat_minor": 2
}
